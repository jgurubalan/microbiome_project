{
 "cells": [
  {
   "cell_type": "markdown",
   "id": "1ecbabdb",
   "metadata": {},
   "source": [
    "### <span style=\"color:teal\"> __DISEASE CATEGORY DICTIONARY CURATION__"
   ]
  },
  {
   "cell_type": "code",
   "execution_count": 1,
   "id": "6b9339d9",
   "metadata": {},
   "outputs": [],
   "source": [
    "import json\n",
    "import pandas as pd"
   ]
  },
  {
   "cell_type": "code",
   "execution_count": 2,
   "id": "a66ae365",
   "metadata": {},
   "outputs": [],
   "source": [
    "# Open the JSON file containing disease name mappings\n",
    "with open(\"/mnt/iusers01/fatpou01/bmh01/msc-bioinf-2024-2025/h44063jg/microbiome_project/resources/disease_dict.json\", \"r\") as f:\n",
    "    # Load the contents of the JSON file into a Python dictionary\n",
    "    disease_dict = json.load(f)\n",
    "    \n",
    "with open(\"/mnt/iusers01/fatpou01/bmh01/msc-bioinf-2024-2025/h44063jg/microbiome_project/resources/disease_category.json\", \"r\") as f:\n",
    "    disease_category = json.load(f)"
   ]
  },
  {
   "cell_type": "code",
   "execution_count": 3,
   "id": "db3cc963",
   "metadata": {},
   "outputs": [
    {
     "name": "stdout",
     "output_type": "stream",
     "text": [
      "Saved to disease_classification.json\n"
     ]
    }
   ],
   "source": [
    "# Extract all unique top categories from the dictionary\n",
    "unique_top_categories = sorted({\n",
    "    cat\n",
    "    for meta in disease_category.values()\n",
    "    for cat in meta.get(\"top_categories\", [])\n",
    "    if cat  # Avoid empty strings\n",
    "})\n",
    "# Extracts all unique top catgories.\n",
    "\n",
    "# Create dictionary\n",
    "disease_code_to_top_categories = {\n",
    "    code: meta.get(\"top_categories\", [])\n",
    "    for code, meta in disease_category.items()\n",
    "}\n",
    "\n",
    "# Save to JSON\n",
    "with open(\"disease_classification.json\", \"w\") as f:\n",
    "    json.dump(disease_code_to_top_categories, f, indent=4)\n",
    "\n",
    "print(\"Saved to disease_classification.json\")\n"
   ]
  },
  {
   "cell_type": "code",
   "execution_count": 5,
   "id": "2eda346d",
   "metadata": {},
   "outputs": [
    {
     "name": "stdout",
     "output_type": "stream",
     "text": [
      "Number of unique top categories: 24\n"
     ]
    },
    {
     "data": {
      "text/plain": [
       "{'Bacterial Infections',\n",
       " 'Behavior and Behavior Mechanisms',\n",
       " 'Cardiovascular Diseases',\n",
       " 'Congenital, Hereditary, and Neonatal Diseases and Abnormalities',\n",
       " 'Digestive System Diseases',\n",
       " 'Endocrine System Diseases',\n",
       " 'Eye Diseases',\n",
       " 'Health',\n",
       " 'Hemic and Lymphatic Diseases',\n",
       " 'Immune System Diseases',\n",
       " 'Infant, Newborn, Diseases',\n",
       " 'Infections',\n",
       " 'Mental Disorders',\n",
       " 'Musculoskeletal Diseases',\n",
       " 'Neoplasms',\n",
       " 'Nervous System Diseases',\n",
       " 'Nutritional and Metabolic Diseases',\n",
       " 'Pregnancy',\n",
       " 'Respiratory Tract Diseases',\n",
       " 'Signs and Symptoms, Digestive',\n",
       " 'Skin and Connective Tissue Diseases',\n",
       " 'Stomatognathic Diseases',\n",
       " 'Urogenital Diseases',\n",
       " 'Viral Infections'}"
      ]
     },
     "execution_count": 5,
     "metadata": {},
     "output_type": "execute_result"
    }
   ],
   "source": [
    "\n",
    "# Get all unique categories across all values in the dictionary\n",
    "unique_categories = {\n",
    "    cat\n",
    "    for categories in disease_code_to_top_categories.values()\n",
    "    for cat in categories\n",
    "}\n",
    "\n",
    "print(f\"Number of unique top categories: {len(unique_categories)}\")\n",
    "unique_categories  # optional, to see them\n",
    "\n"
   ]
  }
 ],
 "metadata": {
  "kernelspec": {
   "display_name": "mam_myenv",
   "language": "python",
   "name": "python3"
  },
  "language_info": {
   "codemirror_mode": {
    "name": "ipython",
    "version": 3
   },
   "file_extension": ".py",
   "mimetype": "text/x-python",
   "name": "python",
   "nbconvert_exporter": "python",
   "pygments_lexer": "ipython3",
   "version": "3.10.18"
  }
 },
 "nbformat": 4,
 "nbformat_minor": 5
}
