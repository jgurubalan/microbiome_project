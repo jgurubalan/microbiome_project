{
 "cells": [
  {
   "cell_type": "markdown",
   "id": "a36c2402",
   "metadata": {},
   "source": [
    "### <span style=\"color:teal\"> __DISEASE DICTIONARY MAPPING__\n",
    "____"
   ]
  },
  {
   "cell_type": "code",
   "execution_count": 1,
   "id": "ea7b295b",
   "metadata": {},
   "outputs": [],
   "source": [
    "# Loading packages\n",
    "import pandas as pd\n",
    "import numpy as np\n",
    "import json\n",
    "import requests\n",
    "import time\n",
    "from tqdm import tqdm"
   ]
  },
  {
   "cell_type": "code",
   "execution_count": 2,
   "id": "b68b33ed",
   "metadata": {},
   "outputs": [],
   "source": [
    "# Load the main dataset (GMRepo 'sample_to_disease_info.txt')\n",
    "df = pd.read_csv(\"/mnt/iusers01/fatpou01/bmh01/msc-bioinf-2024-2025/h44063jg/gm_repository/sample_to_disease_info.txt\", sep = '\\t')"
   ]
  },
  {
   "cell_type": "code",
   "execution_count": 3,
   "id": "daf0bb8b",
   "metadata": {},
   "outputs": [
    {
     "name": "stdout",
     "output_type": "stream",
     "text": [
      "📊 Disease Column Summary\n",
      "----------------------------\n",
      "🔹 Total rows             : 66118\n",
      "🔹 Missing disease labels: 6969\n",
      "🔹 Unique values (without NaN): 92\n"
     ]
    }
   ],
   "source": [
    "# Descriptive summary of 'disease' column\n",
    "total_entries = len(df)\n",
    "missing_disease = df['disease'].isnull().sum()\n",
    "unique_without_nan = df['disease'].nunique()\n",
    "\n",
    "print(\"📊 Disease Column Summary\")\n",
    "print(\"----------------------------\")\n",
    "print(f\"🔹 Total rows             : {total_entries}\")\n",
    "print(f\"🔹 Missing disease labels: {missing_disease}\")\n",
    "print(f\"🔹 Unique values (without NaN): {unique_without_nan}\")\n",
    "\n",
    "# Get list of unique non-null disease names\n",
    "disease_list = sorted(df['disease'].dropna().unique().tolist())\n",
    "\n"
   ]
  },
  {
   "cell_type": "code",
   "execution_count": null,
   "id": "02562dbb",
   "metadata": {},
   "outputs": [
    {
     "name": "stderr",
     "output_type": "stream",
     "text": [
      "Fetching disease names (phenotyes) from NCBI-MeSH website using MESH IDs (disease codes):   0%|          | 0/92 [00:00<?, ?it/s]"
     ]
    },
    {
     "name": "stderr",
     "output_type": "stream",
     "text": [
      "Fetching disease names (phenotyes) from NCBI-MeSH website using MESH IDs (disease codes): 100%|██████████| 92/92 [00:46<00:00,  1.99it/s]\n",
      "Fetching MeSH terms in batch: 100%|██████████| 1/1 [00:00<00:00,  1.91it/s]"
     ]
    },
    {
     "name": "stdout",
     "output_type": "stream",
     "text": [
      "\n",
      "Finished: 92 MeSH IDs processed\n",
      "Found (with term): 92\n",
      "Unknown: 0\n",
      "Not found (no UID resolved): 0\n"
     ]
    },
    {
     "name": "stderr",
     "output_type": "stream",
     "text": [
      "\n"
     ]
    }
   ],
   "source": [
    "# Fetching disease names (phenotyes) from NCBI-MeSH website\n",
    "API_KEY = \"87fdd45a6ee743fecdbd1b7e9f010d669109\"\n",
    "BATCH_SIZE = 200\n",
    "\n",
    "def get_uids_for_mesh_ids(mesh_ids):\n",
    "    uid_map = {}\n",
    "    not_found = []\n",
    "    for mesh_id in tqdm(mesh_ids, desc=\"Fetching disease names (phenotyes) from NCBI-MeSH website using MESH IDs (disease codes)\"):\n",
    "        url = \"https://eutils.ncbi.nlm.nih.gov/entrez/eutils/esearch.fcgi\"\n",
    "        params = {\n",
    "            'db': 'mesh',\n",
    "            'term': mesh_id,\n",
    "            'retmode': 'json',\n",
    "            'api_key': API_KEY\n",
    "        }\n",
    "        try:\n",
    "            r = requests.get(url, params=params, timeout=10)\n",
    "            r.raise_for_status()\n",
    "            ids = r.json().get('esearchresult', {}).get('idlist', [])\n",
    "            if ids:\n",
    "                uid_map[mesh_id] = ids[0]\n",
    "            else:\n",
    "                not_found.append(mesh_id)\n",
    "        except Exception as e:\n",
    "            print(f\"Error resolving {mesh_id}: {e}\")\n",
    "            not_found.append(mesh_id)\n",
    "        time.sleep(0.2)\n",
    "    return uid_map, not_found\n",
    "\n",
    "def fetch_mesh_terms_batch(uid_batch):\n",
    "    url = \"https://eutils.ncbi.nlm.nih.gov/entrez/eutils/esummary.fcgi\"\n",
    "    params = {\n",
    "        'db': 'mesh',\n",
    "        'id': \",\".join(uid_batch),\n",
    "        'retmode': 'json',\n",
    "        'api_key': API_KEY\n",
    "    }\n",
    "    try:\n",
    "        r = requests.get(url, params=params, timeout=15)\n",
    "        r.raise_for_status()\n",
    "        data = r.json().get('result', {})\n",
    "        return {uid: data[uid]['ds_meshterms'][0] for uid in uid_batch if uid in data and 'ds_meshterms' in data[uid]}\n",
    "    except Exception as e:\n",
    "        print(f\"Batch fetch error: {e}\")\n",
    "        return {}\n",
    "\n",
    "# Step 1: Get UIDs for MeSH IDs\n",
    "disease_dict = {}\n",
    "uid_map, mesh_not_found = get_uids_for_mesh_ids(disease_list)\n",
    "uids = list(uid_map.values())\n",
    "\n",
    "# Step 2: Batch fetch MeSH terms using UIDs\n",
    "for i in tqdm(range(0, len(uids), BATCH_SIZE), desc=\"Fetching MeSH terms in batch\"):\n",
    "    batch = uids[i:i + BATCH_SIZE]\n",
    "    terms = fetch_mesh_terms_batch(batch)\n",
    "    for mesh_id, uid in uid_map.items():\n",
    "        if uid in terms:\n",
    "            try:\n",
    "                disease_dict[int(mesh_id)] = str(terms[uid])\n",
    "            except Exception:\n",
    "                disease_dict[mesh_id] = str(terms[uid])\n",
    "\n",
    "# Step 3: Add 'Unknown' for not found\n",
    "for mesh_id in disease_list:\n",
    "    try:\n",
    "        key = int(mesh_id)\n",
    "    except Exception:\n",
    "        key = mesh_id\n",
    "    if key not in disease_dict:\n",
    "        disease_dict[key] = \"Unknown\"\n",
    "\n",
    "# Step 4: Save as JSON\n",
    "with open(\"/mnt/iusers01/fatpou01/bmh01/msc-bioinf-2024-2025/h44063jg/gut_microbiome_project/resources/disease_dict.json\", \"w\") as f:\n",
    "    json.dump({str(k): v for k, v in disease_dict.items()}, f, indent=2)\n",
    "\n",
    "# Final report\n",
    "found_count = sum(v != \"Unknown\" for v in disease_dict.values())\n",
    "unknown_count = sum(v == \"Unknown\" for v in disease_dict.values())\n",
    "not_found_count = len(mesh_not_found)\n",
    "\n",
    "print(f\"\\nFinished: {len(disease_dict)} MeSH IDs processed\")\n",
    "print(f\"Found (with term): {found_count}\")\n",
    "print(f\"Unknown: {unknown_count}\")\n",
    "print(f\"Not found (no UID resolved): {not_found_count}\")\n",
    "\n",
    "if not_found_count > 0:\n",
    "    print(f\"MeSH IDs not found: {mesh_not_found}\")"
   ]
  }
 ],
 "metadata": {
  "kernelspec": {
   "display_name": "mam_myenv",
   "language": "python",
   "name": "python3"
  },
  "language_info": {
   "codemirror_mode": {
    "name": "ipython",
    "version": 3
   },
   "file_extension": ".py",
   "mimetype": "text/x-python",
   "name": "python",
   "nbconvert_exporter": "python",
   "pygments_lexer": "ipython3",
   "version": "3.10.18"
  }
 },
 "nbformat": 4,
 "nbformat_minor": 5
}
