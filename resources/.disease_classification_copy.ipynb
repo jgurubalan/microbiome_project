{
    "D006262": [
        "Health"
    ],
    "D015209": [
        "Digestive System Diseases"
    ],
    "D003093": [
        "Digestive System Diseases"
    ],
    "D043183": [
        "Digestive System Diseases"
    ],
    "D001714": [
        "Mental Disorders"
    ],
    "D003863": [
        "Behavior and Behavior Mechanisms"
    ],
    "D007410": [
        "Digestive System Diseases"
    ],
    "D008171": [
        "Respiratory Tract Diseases"
    ],
    "D012559": [
        "Mental Disorders"
    ],
    "D013959": [
        "Endocrine System Diseases"
    ],
    "D001327": [
        "Immune System Diseases"
    ],
    "D003967": [
        "Signs and Symptoms, Digestive"
    ],
    "D003920": [
        "Endocrine System Diseases",
        "Nutritional and Metabolic Diseases"
    ],
    "D003015": [
        "Bacterial Infections"
    ],
    "D015212": [
        "Digestive System Diseases"
    ],
    "D003248": [
        "Signs and Symptoms, Digestive"
    ],
    "D008881": [
        "Nervous System Diseases"
    ],
    "D004827": [
        "Nervous System Diseases"
    ],
    "D002318": [
        "Cardiovascular Diseases"
    ],
    "D002446": [
        "Digestive System Diseases",
        "Nutritional and Metabolic Diseases"
    ],
    "D007674": [
        "Urogenital Diseases"
    ],
    "D001289": [
        "Mental Disorders"
    ],
    "D008107": [
        "Digestive System Diseases"
    ],
    "D000067877": [
        "Mental Disorders"
    ],
    "D010661": [
        "Congenital, Hereditary, and Neonatal Diseases and Abnormalities",
        "Nervous System Diseases",
        "Nutritional and Metabolic Diseases"
    ],
    "D000544": [
        "Mental Disorders",
        "Nervous System Diseases"
    ],
    "D009765": [
        "Nutritional and Metabolic Diseases"
    ],
    "D009767": [
        "Nutritional and Metabolic Diseases"
    ],
    "D006973": [
        "Cardiovascular Diseases"
    ],
    "D007234": [
        "Infant, Newborn, Diseases"
    ],
    "D001321": [
        "Mental Disorders"
    ],
    "D000755": [
        "Congenital, Hereditary, and Neonatal Diseases and Abnormalities",
        "Hemic and Lymphatic Diseases"
    ],
    "D003424": [
        "Digestive System Diseases"
    ],
    "D054323": [
        "Bacterial Infections"
    ],
    "D003924": [
        "Endocrine System Diseases",
        "Nutritional and Metabolic Diseases"
    ],
    "D015658": [
        "Immune System Diseases",
        "Viral Infections",
        "Urogenital Diseases"
    ],
    "D050177": [
        "Nutritional and Metabolic Diseases"
    ],
    "D010300": [
        "Nervous System Diseases"
    ],
    "D000236": [
        "Neoplasms"
    ],
    "D015179": [
        "Digestive System Diseases",
        "Neoplasms"
    ],
    "D005764": [
        "Digestive System Diseases"
    ],
    "D020345": [
        "Digestive System Diseases"
    ],
    "D015497": [
        "Immune System Diseases",
        "Viral Infections",
        "Urogenital Diseases"
    ],
    "D006678": [
        "Immune System Diseases",
        "Viral Infections",
        "Urogenital Diseases"
    ],
    "D065626": [
        "Digestive System Diseases"
    ],
    "D003550": [
        "Congenital, Hereditary, and Neonatal Diseases and Abnormalities",
        "Digestive System Diseases",
        "Respiratory Tract Diseases"
    ],
    "D001171": [
        "Immune System Diseases",
        "Musculoskeletal Diseases",
        "Skin and Connective Tissue Diseases"
    ],
    "D003108": [
        "Digestive System Diseases"
    ],
    "D004485": [
        "Skin and Connective Tissue Diseases"
    ],
    "D016360": [
        "Bacterial Infections"
    ],
    "D024821": [
        "Nutritional and Metabolic Diseases"
    ],
    "D002277": [
        "Neoplasms"
    ],
    "D018256": [
        "Neoplasms"
    ],
    "D007230": [
        "Infant, Newborn, Diseases"
    ],
    "D008545": [
        "Neoplasms",
        "Skin and Connective Tissue Diseases"
    ],
    "D012778": [
        "Digestive System Diseases"
    ],
    "D003922": [
        "Endocrine System Diseases",
        "Immune System Diseases",
        "Nutritional and Metabolic Diseases"
    ],
    "D016776": [
        "Digestive System Diseases",
        "Infections"
    ],
    "D001172": [
        "Immune System Diseases",
        "Musculoskeletal Diseases",
        "Skin and Connective Tissue Diseases"
    ],
    "D015518": [
        "Congenital, Hereditary, and Neonatal Diseases and Abnormalities",
        "Nervous System Diseases"
    ],
    "D014607": [
        "Eye Diseases",
        "Immune System Diseases",
        "Nervous System Diseases"
    ],
    "D003876": [
        "Congenital, Hereditary, and Neonatal Diseases and Abnormalities",
        "Immune System Diseases",
        "Skin and Connective Tissue Diseases"
    ],
    "D025241": [
        "Musculoskeletal Diseases"
    ],
    "D013274": [
        "Digestive System Diseases",
        "Neoplasms"
    ],
    "D013167": [
        "Musculoskeletal Diseases"
    ],
    "D011565": [
        "Skin and Connective Tissue Diseases"
    ],
    "D019337": [
        "Hemic and Lymphatic Diseases",
        "Neoplasms"
    ],
    "D020187": [
        "Mental Disorders",
        "Nervous System Diseases"
    ],
    "D006515": [
        "Viral Infections"
    ],
    "D000855": [
        "Signs and Symptoms, Digestive"
    ],
    "D011236": [
        "Endocrine System Diseases",
        "Nutritional and Metabolic Diseases"
    ],
    "D007676": [
        "Urogenital Diseases"
    ],
    "D050197": [
        "Cardiovascular Diseases"
    ],
    "D016918": [
        "Musculoskeletal Diseases"
    ],
    "D055113": [
        "Stomatognathic Diseases"
    ],
    "D005891": [
        "Stomatognathic Diseases"
    ],
    "D014376": [
        "Bacterial Infections"
    ],
    "D016640": [
        "Endocrine System Diseases",
        "Nutritional and Metabolic Diseases"
    ],
    "D037841": [
        "Pregnancy"
    ],
    "D016480": [
        "Bacterial Infections"
    ],
    "D012400": [
        "Viral Infections"
    ],
    "D001249": [
        "Immune System Diseases",
        "Respiratory Tract Diseases"
    ],
    "C537163": [],
    "D001528": [
        "Cardiovascular Diseases",
        "Congenital, Hereditary, and Neonatal Diseases and Abnormalities",
        "Eye Diseases",
        "Skin and Connective Tissue Diseases",
        "Stomatognathic Diseases"
    ],
    "D008103": [
        "Digestive System Diseases"
    ],
    "D054198": [
        "Hemic and Lymphatic Diseases",
        "Immune System Diseases",
        "Neoplasms"
    ],
    "D006111": [
        "Endocrine System Diseases",
        "Eye Diseases",
        "Immune System Diseases"
    ],
    "D050031": [
        "Endocrine System Diseases",
        "Immune System Diseases"
    ],
    "D001943": [
        "Neoplasms",
        "Skin and Connective Tissue Diseases"
    ],
    "D013964": [
        "Endocrine System Diseases",
        "Neoplasms"
    ],
    "D000067011": [
        "Nutritional and Metabolic Diseases"
    ],
    "D042882": [
        "Digestive System Diseases"
    ]
}