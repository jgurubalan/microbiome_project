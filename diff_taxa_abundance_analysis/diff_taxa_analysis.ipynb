{
 "cells": [
  {
   "cell_type": "markdown",
   "id": "e9e24b6b",
   "metadata": {},
   "source": [
    "### <sapn style=\"color:Teal\"> __DIFFERENTIAL ABUNDANCE ANALYSIS__"
   ]
  },
  {
   "cell_type": "code",
   "execution_count": 1,
   "id": "bec27cf9",
   "metadata": {},
   "outputs": [],
   "source": [
    "# LOADING REQUiRED PACKAGES AND LIBRARIES\n",
    "import pandas as pd\n",
    "import numpy as np\n",
    "import seaborn as sns\n",
    "import matplotlib.pyplot as plt\n",
    "from skbio.diversity import beta_diversity\n",
    "from skbio.stats.ordination import pcoa\n",
    "from scipy.spatial import procrustes\n",
    "import tqdm\n",
    "from tqdm.notebook import tqdm  # ✅ Use this in Jupyter for clean nested bars\n",
    "from skbio.stats.distance import permanova\n",
    "from joblib import Parallel, delayed\n",
    "import os\n",
    "import multiprocessing\n",
    "import json\n",
    "from statsmodels.stats.multitest import multipletests\n",
    "import warnings\n",
    "warnings.filterwarnings(\"ignore\", message=\"The result contains negative eigenvalues.*\")\n"
   ]
  },
  {
   "cell_type": "code",
   "execution_count": 2,
   "id": "45679452",
   "metadata": {},
   "outputs": [],
   "source": [
    "df_genus= pd.read_csv('/mnt/iusers01/fatpou01/bmh01/msc-bioinf-2024-2025/h44063jg/gmrepo_curated_data/disease_genus_abundance.txt', sep = '\\t')\n",
    "df_species = pd.read_csv('/mnt/iusers01/fatpou01/bmh01/msc-bioinf-2024-2025/h44063jg/gmrepo_curated_data/disease_species_abundance.txt', sep = '\\t')"
   ]
  },
  {
   "cell_type": "code",
   "execution_count": 3,
   "id": "03b17340",
   "metadata": {},
   "outputs": [],
   "source": [
    "# IMPORT DISEASE DICTIONARY\n",
    "\n",
    "# Load disease code to name mapping\n",
    "with open(\"/mnt/iusers01/fatpou01/bmh01/msc-bioinf-2024-2025/h44063jg/microbiome_project/resources/disease_dict.json\", \"r\") as f:\n",
    "    disease_dict = json.load(f)"
   ]
  },
  {
   "cell_type": "markdown",
   "id": "93ba408f",
   "metadata": {},
   "source": [
    "## __FILTERING__\n",
    "\n",
    "__FILTERING LOGIC APPLIED__\n",
    "The filtering strategy applied to the genus-level and species-level microbiome dataset is designed to ensure both statistical robustness and biological relevance in downstream analyses. First, unknown taxa lacking proper classification (i.e., those with `ncbi_taxon_id == -1`) are removed to maintain interpretability. Next, disease categories with fewer than **__60__** unique samples are excluded to ensure adequate statistical power for meaningful comparisons with the healthy group. Following sample-level filtering, taxon-level filtering is applied using a two-tiered approach based on prevalence and abundance. The **primary filter** retains only those taxa that are present in more than 0.1% of the total samples and have a minimum relative abundance greater than 0.001, effectively eliminating ultra-rare and consistently low-abundance taxa that likely represent noise. To complement this, a **secondary filter** is used to preserve biologically important taxa that might otherwise be excluded — it retains any taxon with either a prevalence above 1% or a minimum abundance exceeding 0.01. This dual-filtering strategy balances noise reduction with the need to preserve taxa that may be rare but highly abundant in specific contexts, such as disease-specific blooms or pathogenic organisms. Overall, the approach enhances the clarity, reliability, and interpretability of differential abundance and diversity analyses.\n",
    "\n",
    "To ensure that only biologically meaningful taxa are retained for downstream analysis, we apply a disease-specific filtering strategy based on both prevalence and maximum abundance. For each disease group, we evaluate every taxon independently. A taxon is retained within a disease group only if it meets two conditions: (1) it is present in at least 10% of samples from that disease (i.e., prevalence ≥ 10%), and (2) it reaches a relative abundance greater than 1% in at least one sample from that group. This filtering is done within each disease, rather than globally, ensuring that a taxon is only included where it shows meaningful presence and abundance. As a result, taxa that are rare, inconsistently present, or only appear with negligible abundance are excluded from each disease group individually, reducing noise and improving the biological relevance of the dataset.\n",
    "___\n"
   ]
  },
  {
   "cell_type": "code",
   "execution_count": 4,
   "id": "95cfc0b1",
   "metadata": {},
   "outputs": [
    {
     "name": "stdout",
     "output_type": "stream",
     "text": [
      "══════════════════════════════════════════════════════════════\n",
      "MICROBIOME TAXON FILTERING — DISEASE-SPECIFIC LOGIC\n",
      "──────────────────────────────────────────────────────────────\n",
      "Filtering Criteria:\n",
      " - Prevalence ≥ 10%\n",
      " - Max Relative Abundance > 1%\n",
      " - Filtering is done within each disease group independently\n",
      "══════════════════════════════════════════════════════════════\n",
      "\n",
      "[Step 1] Removed unknown taxa: 30186 rows removed\n",
      "[Step 2] Valid diseases retained (≥30 samples): 66 diseases\n",
      "[Step 2] Remaining rows after disease filtering: 2249445\n",
      "[Step 3] Number of (disease, taxon) pairs before filtering: 45710\n",
      "[Step 4] (Disease, taxon) pairs retained after filtering: 5581\n",
      "[Step 4] Unique taxa retained: 520\n",
      "[Step 4] Diseases with retained taxa: 66\n",
      "[Step 5] Final retained rows: 1449781\n",
      "\n",
      "[Step 6] Number of unique taxa per disease: BEFORE vs AFTER filtering\n",
      "         taxa_before_filtering  taxa_after_filtering\n",
      "disease                                             \n",
      "D006262                   1613                   374\n",
      "D015212                   1517                   131\n",
      "D013274                   1431                   121\n",
      "D015179                   1380                   210\n",
      "D003924                   1330                   110\n",
      "...                        ...                   ...\n",
      "D001943                    117                    49\n",
      "D013167                    112                    39\n",
      "D014607                    103                    42\n",
      "D007234                     97                    58\n",
      "D050177                     67                    35\n",
      "\n",
      "[66 rows x 2 columns]\n"
     ]
    }
   ],
   "source": [
    "# GENUS LEVEL MONTE CARLO PERMUTATIION FOR IDENTIFICATION OF DIFFERENTAILLY ABUNDANT TAXA - GENUS LEVEL\n",
    "# ───────────────────────────────────────────────────────────────\n",
    "# FILTERING CRITERIA\n",
    "# ───────────────────────────────────────────────────────────────\n",
    "prevalence_threshold = 10  # in percentage\n",
    "abundance_threshold = 1    # in percentage\n",
    "\n",
    "print(\"══════════════════════════════════════════════════════════════\")\n",
    "print(\"MICROBIOME TAXON FILTERING — DISEASE-SPECIFIC LOGIC\")\n",
    "print(\"──────────────────────────────────────────────────────────────\")\n",
    "print(f\"Filtering Criteria:\")\n",
    "print(f\" - Prevalence ≥ {prevalence_threshold}%\")\n",
    "print(f\" - Max Relative Abundance > {abundance_threshold}%\")\n",
    "print(\" - Filtering is done within each disease group independently\")\n",
    "print(\"══════════════════════════════════════════════════════════════\\n\")\n",
    "\n",
    "# ───────────────────────────────────────────────────────────────\n",
    "# Step 1: Remove unknown taxa\n",
    "# ───────────────────────────────────────────────────────────────\n",
    "df_genus_cleaned = df_genus[df_genus['ncbi_taxon_id'] != -1].copy()\n",
    "print(f\"[Step 1] Removed unknown taxa: {df_genus.shape[0] - df_genus_cleaned.shape[0]} rows removed\")\n",
    "\n",
    "# ───────────────────────────────────────────────────────────────\n",
    "# Step 2: Remove diseases with <30 samples\n",
    "# ───────────────────────────────────────────────────────────────\n",
    "disease_sample_counts = (\n",
    "    df_genus_cleaned[['loaded_uid', 'disease']]\n",
    "    .drop_duplicates()\n",
    "    .groupby('disease')\n",
    "    .size()\n",
    ")\n",
    "\n",
    "valid_diseases = disease_sample_counts[disease_sample_counts >= 30].index\n",
    "df_genus_cleaned = df_genus_cleaned[df_genus_cleaned['disease'].isin(valid_diseases)].copy()\n",
    "\n",
    "print(f\"[Step 2] Valid diseases retained (≥30 samples): {len(valid_diseases)} diseases\")\n",
    "print(f\"[Step 2] Remaining rows after disease filtering: {df_genus_cleaned.shape[0]}\")\n",
    "\n",
    "# ───────────────────────────────────────────────────────────────\n",
    "# Step 3: Group by disease and taxon, calculate prevalence and max abundance\n",
    "# ───────────────────────────────────────────────────────────────\n",
    "grouped = (\n",
    "    df_genus_cleaned\n",
    "    .groupby(['disease', 'ncbi_taxon_id'])\n",
    "    .agg(\n",
    "        prevalence=('relative_abundance', lambda x: (x > 0).sum() / x.shape[0] * 100),\n",
    "        max_abundance=('relative_abundance', 'max')\n",
    "    )\n",
    "    .reset_index()\n",
    ")\n",
    "\n",
    "print(f\"[Step 3] Number of (disease, taxon) pairs before filtering: {grouped.shape[0]}\")\n",
    "\n",
    "# ───────────────────────────────────────────────────────────────\n",
    "# Step 4: Apply primary filter (prevalence ≥ 10% and max_abundance > 1)\n",
    "# ───────────────────────────────────────────────────────────────\n",
    "primary_mask = (grouped[\"prevalence\"] >= prevalence_threshold) & (grouped[\"max_abundance\"] > abundance_threshold)\n",
    "grouped_filtered = grouped[primary_mask]\n",
    "\n",
    "print(f\"[Step 4] (Disease, taxon) pairs retained after filtering: {grouped_filtered.shape[0]}\")\n",
    "print(f\"[Step 4] Unique taxa retained: {grouped_filtered['ncbi_taxon_id'].nunique()}\")\n",
    "print(f\"[Step 4] Diseases with retained taxa: {grouped_filtered['disease'].nunique()}\")\n",
    "\n",
    "# ───────────────────────────────────────────────────────────────\n",
    "# Step 5: Filter the full dataset to retain only the valid (disease, taxon) pairs\n",
    "# ───────────────────────────────────────────────────────────────\n",
    "df_genus_retained = df_genus_cleaned.merge(\n",
    "    grouped_filtered[['disease', 'ncbi_taxon_id']],\n",
    "    on=['disease', 'ncbi_taxon_id'],\n",
    "    how='inner'\n",
    ")\n",
    "\n",
    "print(f\"[Step 5] Final retained rows: {df_genus_retained.shape[0]}\")\n",
    "\n",
    "# ───────────────────────────────────────────────────────────────\n",
    "# Step 6: Compare number of unique taxa per disease: before vs. after\n",
    "# ───────────────────────────────────────────────────────────────\n",
    "before_counts = (\n",
    "    df_genus_cleaned.groupby(\"disease\")[\"ncbi_taxon_id\"]\n",
    "    .nunique()\n",
    "    .rename(\"taxa_before_filtering\")\n",
    ")\n",
    "\n",
    "after_counts = (\n",
    "    df_genus_retained.groupby(\"disease\")[\"ncbi_taxon_id\"]\n",
    "    .nunique()\n",
    "    .rename(\"taxa_after_filtering\")\n",
    ")\n",
    "\n",
    "comparison_df = pd.concat([before_counts, after_counts], axis=1).fillna(0).astype(int)\n",
    "\n",
    "print(\"\\n[Step 6] Number of unique taxa per disease: BEFORE vs AFTER filtering\")\n",
    "print(comparison_df.sort_values(\"taxa_before_filtering\", ascending=False))\n"
   ]
  },
  {
   "cell_type": "code",
   "execution_count": 5,
   "id": "457d1fca",
   "metadata": {},
   "outputs": [
    {
     "data": {
      "application/vnd.jupyter.widget-view+json": {
       "model_id": "49c76fa39fac4b7bbb60e5d698c7468f",
       "version_major": 2,
       "version_minor": 0
      },
      "text/plain": [
       "Diseases:   0%|          | 0/65 [00:00<?, ?it/s]"
      ]
     },
     "metadata": {},
     "output_type": "display_data"
    },
    {
     "data": {
      "application/vnd.jupyter.widget-view+json": {
       "model_id": "a6c20ce17e3049919a5fb2a42535a43f",
       "version_major": 2,
       "version_minor": 0
      },
      "text/plain": [
       "Taxa in D003924:   0%|          | 0/110 [00:00<?, ?it/s]"
      ]
     },
     "metadata": {},
     "output_type": "display_data"
    },
    {
     "data": {
      "application/vnd.jupyter.widget-view+json": {
       "model_id": "c7a5ae6fbf3d4f0fad871a5a75d20583",
       "version_major": 2,
       "version_minor": 0
      },
      "text/plain": [
       "Taxa in D003093:   0%|          | 0/151 [00:00<?, ?it/s]"
      ]
     },
     "metadata": {},
     "output_type": "display_data"
    },
    {
     "data": {
      "application/vnd.jupyter.widget-view+json": {
       "model_id": "b4a6ee2757914896b3360d1030f43c35",
       "version_major": 2,
       "version_minor": 0
      },
      "text/plain": [
       "Taxa in D003967:   0%|          | 0/129 [00:00<?, ?it/s]"
      ]
     },
     "metadata": {},
     "output_type": "display_data"
    },
    {
     "data": {
      "application/vnd.jupyter.widget-view+json": {
       "model_id": "1d331b944b03412b93f478b1c1b664d1",
       "version_major": 2,
       "version_minor": 0
      },
      "text/plain": [
       "Taxa in D003424:   0%|          | 0/126 [00:00<?, ?it/s]"
      ]
     },
     "metadata": {},
     "output_type": "display_data"
    },
    {
     "data": {
      "application/vnd.jupyter.widget-view+json": {
       "model_id": "9c0d2ba370be450cb73bdc8cd2473041",
       "version_major": 2,
       "version_minor": 0
      },
      "text/plain": [
       "Taxa in D006973:   0%|          | 0/46 [00:00<?, ?it/s]"
      ]
     },
     "metadata": {},
     "output_type": "display_data"
    },
    {
     "data": {
      "application/vnd.jupyter.widget-view+json": {
       "model_id": "ad456061b1334313817acdb93f6fbd9a",
       "version_major": 2,
       "version_minor": 0
      },
      "text/plain": [
       "Taxa in D007234:   0%|          | 0/58 [00:00<?, ?it/s]"
      ]
     },
     "metadata": {},
     "output_type": "display_data"
    },
    {
     "data": {
      "application/vnd.jupyter.widget-view+json": {
       "model_id": "64e0d7dad14a4a5fbb0f9b807e57ea03",
       "version_major": 2,
       "version_minor": 0
      },
      "text/plain": [
       "Taxa in D015212:   0%|          | 0/131 [00:00<?, ?it/s]"
      ]
     },
     "metadata": {},
     "output_type": "display_data"
    },
    {
     "data": {
      "application/vnd.jupyter.widget-view+json": {
       "model_id": "a5bc85ba8d5d4ce183d1f42ca35496dd",
       "version_major": 2,
       "version_minor": 0
      },
      "text/plain": [
       "Taxa in D015497:   0%|          | 0/75 [00:00<?, ?it/s]"
      ]
     },
     "metadata": {},
     "output_type": "display_data"
    },
    {
     "data": {
      "application/vnd.jupyter.widget-view+json": {
       "model_id": "2e0dfc6465f042df92a0b998eb52d570",
       "version_major": 2,
       "version_minor": 0
      },
      "text/plain": [
       "Taxa in D043183:   0%|          | 0/146 [00:00<?, ?it/s]"
      ]
     },
     "metadata": {},
     "output_type": "display_data"
    },
    {
     "data": {
      "application/vnd.jupyter.widget-view+json": {
       "model_id": "a9c31469294b42ccba02d6b6c5561e82",
       "version_major": 2,
       "version_minor": 0
      },
      "text/plain": [
       "Taxa in D007230:   0%|          | 0/62 [00:00<?, ?it/s]"
      ]
     },
     "metadata": {},
     "output_type": "display_data"
    },
    {
     "data": {
      "application/vnd.jupyter.widget-view+json": {
       "model_id": "6e677e99695a4175864cc923c07c9fe3",
       "version_major": 2,
       "version_minor": 0
      },
      "text/plain": [
       "Taxa in D065626:   0%|          | 0/61 [00:00<?, ?it/s]"
      ]
     },
     "metadata": {},
     "output_type": "display_data"
    },
    {
     "data": {
      "application/vnd.jupyter.widget-view+json": {
       "model_id": "d48f69f9c8644c4684edf3c1f154a9bb",
       "version_major": 2,
       "version_minor": 0
      },
      "text/plain": [
       "Taxa in D001321:   0%|          | 0/78 [00:00<?, ?it/s]"
      ]
     },
     "metadata": {},
     "output_type": "display_data"
    },
    {
     "data": {
      "application/vnd.jupyter.widget-view+json": {
       "model_id": "6f8829d5f43045c4addb60c5b8c841e3",
       "version_major": 2,
       "version_minor": 0
      },
      "text/plain": [
       "Taxa in D012778:   0%|          | 0/69 [00:00<?, ?it/s]"
      ]
     },
     "metadata": {},
     "output_type": "display_data"
    },
    {
     "data": {
      "application/vnd.jupyter.widget-view+json": {
       "model_id": "da3e4573dfb64c589b7e5b68c649e110",
       "version_major": 2,
       "version_minor": 0
      },
      "text/plain": [
       "Taxa in D003922:   0%|          | 0/37 [00:00<?, ?it/s]"
      ]
     },
     "metadata": {},
     "output_type": "display_data"
    },
    {
     "data": {
      "application/vnd.jupyter.widget-view+json": {
       "model_id": "8c9532e5da204f43af34ff8a1e891628",
       "version_major": 2,
       "version_minor": 0
      },
      "text/plain": [
       "Taxa in D003015:   0%|          | 0/163 [00:00<?, ?it/s]"
      ]
     },
     "metadata": {},
     "output_type": "display_data"
    },
    {
     "data": {
      "application/vnd.jupyter.widget-view+json": {
       "model_id": "69b2ecb9ffa248bd9789b461321af046",
       "version_major": 2,
       "version_minor": 0
      },
      "text/plain": [
       "Taxa in D006678:   0%|          | 0/51 [00:00<?, ?it/s]"
      ]
     },
     "metadata": {},
     "output_type": "display_data"
    },
    {
     "data": {
      "application/vnd.jupyter.widget-view+json": {
       "model_id": "6bd8b27f2ad94b61b08f8db8d6e9de41",
       "version_major": 2,
       "version_minor": 0
      },
      "text/plain": [
       "Taxa in D014607:   0%|          | 0/42 [00:00<?, ?it/s]"
      ]
     },
     "metadata": {},
     "output_type": "display_data"
    },
    {
     "data": {
      "application/vnd.jupyter.widget-view+json": {
       "model_id": "aa2aaf5c509b42deb05f25f012cd9f33",
       "version_major": 2,
       "version_minor": 0
      },
      "text/plain": [
       "Taxa in D013274:   0%|          | 0/121 [00:00<?, ?it/s]"
      ]
     },
     "metadata": {},
     "output_type": "display_data"
    },
    {
     "data": {
      "application/vnd.jupyter.widget-view+json": {
       "model_id": "bb2ba5810089449797026b04ba07314f",
       "version_major": 2,
       "version_minor": 0
      },
      "text/plain": [
       "Taxa in D011565:   0%|          | 0/31 [00:00<?, ?it/s]"
      ]
     },
     "metadata": {},
     "output_type": "display_data"
    },
    {
     "data": {
      "application/vnd.jupyter.widget-view+json": {
       "model_id": "788b56b5a0f84091bda388f6eb4be2fb",
       "version_major": 2,
       "version_minor": 0
      },
      "text/plain": [
       "Taxa in D050177:   0%|          | 0/35 [00:00<?, ?it/s]"
      ]
     },
     "metadata": {},
     "output_type": "display_data"
    },
    {
     "data": {
      "application/vnd.jupyter.widget-view+json": {
       "model_id": "6159db4f786b48a99ab1925f554fb4af",
       "version_major": 2,
       "version_minor": 0
      },
      "text/plain": [
       "Taxa in D009765:   0%|          | 0/76 [00:00<?, ?it/s]"
      ]
     },
     "metadata": {},
     "output_type": "display_data"
    },
    {
     "data": {
      "application/vnd.jupyter.widget-view+json": {
       "model_id": "63bcd101b4fb4d42a885faa88f46c5ea",
       "version_major": 2,
       "version_minor": 0
      },
      "text/plain": [
       "Taxa in D006515:   0%|          | 0/39 [00:00<?, ?it/s]"
      ]
     },
     "metadata": {},
     "output_type": "display_data"
    },
    {
     "data": {
      "application/vnd.jupyter.widget-view+json": {
       "model_id": "52425f75d9154e2b99f2f7fa936d877a",
       "version_major": 2,
       "version_minor": 0
      },
      "text/plain": [
       "Taxa in D003920:   0%|          | 0/107 [00:00<?, ?it/s]"
      ]
     },
     "metadata": {},
     "output_type": "display_data"
    },
    {
     "data": {
      "application/vnd.jupyter.widget-view+json": {
       "model_id": "ba07e1157d2348c6a14fb37244a58601",
       "version_major": 2,
       "version_minor": 0
      },
      "text/plain": [
       "Taxa in D024821:   0%|          | 0/40 [00:00<?, ?it/s]"
      ]
     },
     "metadata": {},
     "output_type": "display_data"
    },
    {
     "data": {
      "application/vnd.jupyter.widget-view+json": {
       "model_id": "c27d0f6c333e488eac8f4145dac04cf5",
       "version_major": 2,
       "version_minor": 0
      },
      "text/plain": [
       "Taxa in D016360:   0%|          | 0/56 [00:00<?, ?it/s]"
      ]
     },
     "metadata": {},
     "output_type": "display_data"
    },
    {
     "data": {
      "application/vnd.jupyter.widget-view+json": {
       "model_id": "def2e33fd8484642a08916032f3b18df",
       "version_major": 2,
       "version_minor": 0
      },
      "text/plain": [
       "Taxa in D000855:   0%|          | 0/37 [00:00<?, ?it/s]"
      ]
     },
     "metadata": {},
     "output_type": "display_data"
    },
    {
     "data": {
      "application/vnd.jupyter.widget-view+json": {
       "model_id": "368c5d016725493e9ac83269c0ac545c",
       "version_major": 2,
       "version_minor": 0
      },
      "text/plain": [
       "Taxa in D007676:   0%|          | 0/50 [00:00<?, ?it/s]"
      ]
     },
     "metadata": {},
     "output_type": "display_data"
    },
    {
     "data": {
      "application/vnd.jupyter.widget-view+json": {
       "model_id": "4bb4fcbc672348d88f959cebd4cf380e",
       "version_major": 2,
       "version_minor": 0
      },
      "text/plain": [
       "Taxa in D008545:   0%|          | 0/69 [00:00<?, ?it/s]"
      ]
     },
     "metadata": {},
     "output_type": "display_data"
    },
    {
     "data": {
      "application/vnd.jupyter.widget-view+json": {
       "model_id": "e78602acd4d04e228b7271ffbd89f7cd",
       "version_major": 2,
       "version_minor": 0
      },
      "text/plain": [
       "Taxa in D003108:   0%|          | 0/88 [00:00<?, ?it/s]"
      ]
     },
     "metadata": {},
     "output_type": "display_data"
    },
    {
     "data": {
      "application/vnd.jupyter.widget-view+json": {
       "model_id": "f3f77fe10bb54990a9a4210e0dc02f23",
       "version_major": 2,
       "version_minor": 0
      },
      "text/plain": [
       "Taxa in D003248:   0%|          | 0/139 [00:00<?, ?it/s]"
      ]
     },
     "metadata": {},
     "output_type": "display_data"
    },
    {
     "data": {
      "application/vnd.jupyter.widget-view+json": {
       "model_id": "3560569bab314936b06b0db165da5dc8",
       "version_major": 2,
       "version_minor": 0
      },
      "text/plain": [
       "Taxa in D003550:   0%|          | 0/64 [00:00<?, ?it/s]"
      ]
     },
     "metadata": {},
     "output_type": "display_data"
    },
    {
     "data": {
      "application/vnd.jupyter.widget-view+json": {
       "model_id": "7866cd34c93e486eb0e7f92efa342af1",
       "version_major": 2,
       "version_minor": 0
      },
      "text/plain": [
       "Taxa in D015179:   0%|          | 0/210 [00:00<?, ?it/s]"
      ]
     },
     "metadata": {},
     "output_type": "display_data"
    },
    {
     "data": {
      "application/vnd.jupyter.widget-view+json": {
       "model_id": "3fab613f5b7d4d129fd489ccb3a0fbea",
       "version_major": 2,
       "version_minor": 0
      },
      "text/plain": [
       "Taxa in D000236:   0%|          | 0/83 [00:00<?, ?it/s]"
      ]
     },
     "metadata": {},
     "output_type": "display_data"
    },
    {
     "data": {
      "application/vnd.jupyter.widget-view+json": {
       "model_id": "c1539041bd8e40048550dd6adcf9e250",
       "version_major": 2,
       "version_minor": 0
      },
      "text/plain": [
       "Taxa in D019337:   0%|          | 0/94 [00:00<?, ?it/s]"
      ]
     },
     "metadata": {},
     "output_type": "display_data"
    },
    {
     "data": {
      "application/vnd.jupyter.widget-view+json": {
       "model_id": "74ea4492131849fab2cc5e0018012f43",
       "version_major": 2,
       "version_minor": 0
      },
      "text/plain": [
       "Taxa in D016918:   0%|          | 0/36 [00:00<?, ?it/s]"
      ]
     },
     "metadata": {},
     "output_type": "display_data"
    },
    {
     "data": {
      "application/vnd.jupyter.widget-view+json": {
       "model_id": "b70823fe1da94ac1acb2c04811f76130",
       "version_major": 2,
       "version_minor": 0
      },
      "text/plain": [
       "Taxa in D000067011:   0%|          | 0/48 [00:00<?, ?it/s]"
      ]
     },
     "metadata": {},
     "output_type": "display_data"
    },
    {
     "data": {
      "application/vnd.jupyter.widget-view+json": {
       "model_id": "878894105a134487891166b61e6a1938",
       "version_major": 2,
       "version_minor": 0
      },
      "text/plain": [
       "Taxa in D001249:   0%|          | 0/48 [00:00<?, ?it/s]"
      ]
     },
     "metadata": {},
     "output_type": "display_data"
    },
    {
     "data": {
      "application/vnd.jupyter.widget-view+json": {
       "model_id": "8863112e3f004071ba4841435d8c311e",
       "version_major": 2,
       "version_minor": 0
      },
      "text/plain": [
       "Taxa in D054198:   0%|          | 0/95 [00:00<?, ?it/s]"
      ]
     },
     "metadata": {},
     "output_type": "display_data"
    },
    {
     "data": {
      "application/vnd.jupyter.widget-view+json": {
       "model_id": "e2ecb0099add43a4acf015d158ccf856",
       "version_major": 2,
       "version_minor": 0
      },
      "text/plain": [
       "Taxa in D001714:   0%|          | 0/118 [00:00<?, ?it/s]"
      ]
     },
     "metadata": {},
     "output_type": "display_data"
    },
    {
     "data": {
      "application/vnd.jupyter.widget-view+json": {
       "model_id": "c85bcf1236964f11885a55fe2e5d82c9",
       "version_major": 2,
       "version_minor": 0
      },
      "text/plain": [
       "Taxa in D001172:   0%|          | 0/43 [00:00<?, ?it/s]"
      ]
     },
     "metadata": {},
     "output_type": "display_data"
    },
    {
     "data": {
      "application/vnd.jupyter.widget-view+json": {
       "model_id": "65d0e4f157d44dd297cfae6127635cde",
       "version_major": 2,
       "version_minor": 0
      },
      "text/plain": [
       "Taxa in D001943:   0%|          | 0/49 [00:00<?, ?it/s]"
      ]
     },
     "metadata": {},
     "output_type": "display_data"
    },
    {
     "data": {
      "application/vnd.jupyter.widget-view+json": {
       "model_id": "0359cd4db30c4eff812ece94bd54309a",
       "version_major": 2,
       "version_minor": 0
      },
      "text/plain": [
       "Taxa in D013167:   0%|          | 0/39 [00:00<?, ?it/s]"
      ]
     },
     "metadata": {},
     "output_type": "display_data"
    },
    {
     "data": {
      "application/vnd.jupyter.widget-view+json": {
       "model_id": "b1182377dc0e4ce29865710acc76d1c1",
       "version_major": 2,
       "version_minor": 0
      },
      "text/plain": [
       "Taxa in D008103:   0%|          | 0/69 [00:00<?, ?it/s]"
      ]
     },
     "metadata": {},
     "output_type": "display_data"
    },
    {
     "data": {
      "application/vnd.jupyter.widget-view+json": {
       "model_id": "372229b8dff742af96df8552261d8f43",
       "version_major": 2,
       "version_minor": 0
      },
      "text/plain": [
       "Taxa in D001327:   0%|          | 0/125 [00:00<?, ?it/s]"
      ]
     },
     "metadata": {},
     "output_type": "display_data"
    },
    {
     "data": {
      "application/vnd.jupyter.widget-view+json": {
       "model_id": "d5713871f3264fa980a2e59e3d2b9753",
       "version_major": 2,
       "version_minor": 0
      },
      "text/plain": [
       "Taxa in D008107:   0%|          | 0/73 [00:00<?, ?it/s]"
      ]
     },
     "metadata": {},
     "output_type": "display_data"
    },
    {
     "data": {
      "application/vnd.jupyter.widget-view+json": {
       "model_id": "e05a039a2cc34b1e9d5162c06d81b15c",
       "version_major": 2,
       "version_minor": 0
      },
      "text/plain": [
       "Taxa in D013959:   0%|          | 0/133 [00:00<?, ?it/s]"
      ]
     },
     "metadata": {},
     "output_type": "display_data"
    },
    {
     "data": {
      "application/vnd.jupyter.widget-view+json": {
       "model_id": "e27c60fd0cd74f4e83533982c968d42f",
       "version_major": 2,
       "version_minor": 0
      },
      "text/plain": [
       "Taxa in D007410:   0%|          | 0/115 [00:00<?, ?it/s]"
      ]
     },
     "metadata": {},
     "output_type": "display_data"
    },
    {
     "data": {
      "application/vnd.jupyter.widget-view+json": {
       "model_id": "6b18c25a8c624e9a9ecce0a00102d43d",
       "version_major": 2,
       "version_minor": 0
      },
      "text/plain": [
       "Taxa in D008881:   0%|          | 0/127 [00:00<?, ?it/s]"
      ]
     },
     "metadata": {},
     "output_type": "display_data"
    },
    {
     "data": {
      "application/vnd.jupyter.widget-view+json": {
       "model_id": "f3d9f0077aad42a89532ed354e90ecbf",
       "version_major": 2,
       "version_minor": 0
      },
      "text/plain": [
       "Taxa in D007674:   0%|          | 0/71 [00:00<?, ?it/s]"
      ]
     },
     "metadata": {},
     "output_type": "display_data"
    },
    {
     "data": {
      "application/vnd.jupyter.widget-view+json": {
       "model_id": "13cb978e5dd94041b74058045fa727b4",
       "version_major": 2,
       "version_minor": 0
      },
      "text/plain": [
       "Taxa in D008171:   0%|          | 0/122 [00:00<?, ?it/s]"
      ]
     },
     "metadata": {},
     "output_type": "display_data"
    },
    {
     "data": {
      "application/vnd.jupyter.widget-view+json": {
       "model_id": "e222829ee3154179b20555218db7f9bd",
       "version_major": 2,
       "version_minor": 0
      },
      "text/plain": [
       "Taxa in D002446:   0%|          | 0/74 [00:00<?, ?it/s]"
      ]
     },
     "metadata": {},
     "output_type": "display_data"
    },
    {
     "data": {
      "application/vnd.jupyter.widget-view+json": {
       "model_id": "be24fb64275e49f5a58c0372e785c52e",
       "version_major": 2,
       "version_minor": 0
      },
      "text/plain": [
       "Taxa in D003863:   0%|          | 0/106 [00:00<?, ?it/s]"
      ]
     },
     "metadata": {},
     "output_type": "display_data"
    },
    {
     "data": {
      "application/vnd.jupyter.widget-view+json": {
       "model_id": "1f50381188c64968a40c1ac091ef245b",
       "version_major": 2,
       "version_minor": 0
      },
      "text/plain": [
       "Taxa in D012559:   0%|          | 0/105 [00:00<?, ?it/s]"
      ]
     },
     "metadata": {},
     "output_type": "display_data"
    },
    {
     "data": {
      "application/vnd.jupyter.widget-view+json": {
       "model_id": "e8a0d419cfa4455394e8c15535a1300a",
       "version_major": 2,
       "version_minor": 0
      },
      "text/plain": [
       "Taxa in D000067877:   0%|          | 0/94 [00:00<?, ?it/s]"
      ]
     },
     "metadata": {},
     "output_type": "display_data"
    },
    {
     "data": {
      "application/vnd.jupyter.widget-view+json": {
       "model_id": "4b164c389f334a89bd520677bbb6c6af",
       "version_major": 2,
       "version_minor": 0
      },
      "text/plain": [
       "Taxa in D004827:   0%|          | 0/63 [00:00<?, ?it/s]"
      ]
     },
     "metadata": {},
     "output_type": "display_data"
    },
    {
     "data": {
      "application/vnd.jupyter.widget-view+json": {
       "model_id": "b006a92d64694d7586f3137e8dc407e4",
       "version_major": 2,
       "version_minor": 0
      },
      "text/plain": [
       "Taxa in D001289:   0%|          | 0/92 [00:00<?, ?it/s]"
      ]
     },
     "metadata": {},
     "output_type": "display_data"
    },
    {
     "data": {
      "application/vnd.jupyter.widget-view+json": {
       "model_id": "1c2410b2cbc54654aa10fb74b3080630",
       "version_major": 2,
       "version_minor": 0
      },
      "text/plain": [
       "Taxa in D002318:   0%|          | 0/87 [00:00<?, ?it/s]"
      ]
     },
     "metadata": {},
     "output_type": "display_data"
    },
    {
     "data": {
      "application/vnd.jupyter.widget-view+json": {
       "model_id": "c310d2ba0ef94ea69b5c81385b31933e",
       "version_major": 2,
       "version_minor": 0
      },
      "text/plain": [
       "Taxa in D014376:   0%|          | 0/42 [00:00<?, ?it/s]"
      ]
     },
     "metadata": {},
     "output_type": "display_data"
    },
    {
     "data": {
      "application/vnd.jupyter.widget-view+json": {
       "model_id": "017512eff94c4af6b53973cfd1a2f31d",
       "version_major": 2,
       "version_minor": 0
      },
      "text/plain": [
       "Taxa in D012400:   0%|          | 0/53 [00:00<?, ?it/s]"
      ]
     },
     "metadata": {},
     "output_type": "display_data"
    },
    {
     "data": {
      "application/vnd.jupyter.widget-view+json": {
       "model_id": "60219568568e485083f9946cd2241d6a",
       "version_major": 2,
       "version_minor": 0
      },
      "text/plain": [
       "Taxa in D005764:   0%|          | 0/68 [00:00<?, ?it/s]"
      ]
     },
     "metadata": {},
     "output_type": "display_data"
    },
    {
     "data": {
      "application/vnd.jupyter.widget-view+json": {
       "model_id": "6c493e1ad86e4449aebc629c2ae27214",
       "version_major": 2,
       "version_minor": 0
      },
      "text/plain": [
       "Taxa in D037841:   0%|          | 0/67 [00:00<?, ?it/s]"
      ]
     },
     "metadata": {},
     "output_type": "display_data"
    },
    {
     "data": {
      "application/vnd.jupyter.widget-view+json": {
       "model_id": "7ee59bf721d84b07ac1047cf67b2d280",
       "version_major": 2,
       "version_minor": 0
      },
      "text/plain": [
       "Taxa in D016640:   0%|          | 0/53 [00:00<?, ?it/s]"
      ]
     },
     "metadata": {},
     "output_type": "display_data"
    },
    {
     "data": {
      "application/vnd.jupyter.widget-view+json": {
       "model_id": "263dc3cbc1ee4a3f8a19d94d14822e3c",
       "version_major": 2,
       "version_minor": 0
      },
      "text/plain": [
       "Taxa in D006111:   0%|          | 0/35 [00:00<?, ?it/s]"
      ]
     },
     "metadata": {},
     "output_type": "display_data"
    },
    {
     "data": {
      "application/vnd.jupyter.widget-view+json": {
       "model_id": "799c6906618d41aab1ffb470636e3354",
       "version_major": 2,
       "version_minor": 0
      },
      "text/plain": [
       "Taxa in D050031:   0%|          | 0/38 [00:00<?, ?it/s]"
      ]
     },
     "metadata": {},
     "output_type": "display_data"
    },
    {
     "data": {
      "application/vnd.jupyter.widget-view+json": {
       "model_id": "bf31fa9191844d679f2c94a3028852ed",
       "version_major": 2,
       "version_minor": 0
      },
      "text/plain": [
       "Taxa in D013964:   0%|          | 0/45 [00:00<?, ?it/s]"
      ]
     },
     "metadata": {},
     "output_type": "display_data"
    },
    {
     "data": {
      "image/png": "[encoded data removed]",
      "text/plain": [
       "<Figure size 2200x1000 with 1 Axes>"
      ]
     },
     "metadata": {},
     "output_type": "display_data"
    },
    {
     "name": "stdout",
     "output_type": "stream",
     "text": [
      "✅ PERMUTATION TESTING COMPLETE\n",
      "• Total diseases tested: 65\n",
      "• Total (disease, taxon) pairs tested: 5207\n",
      "• Total significant pairs (FDR < 0.05): 2335\n",
      "• Shape of df_genus_significant: (416120, 4)\n",
      "• Unique significant taxa: 387\n",
      "• Diseases with significant taxa: 65\n",
      "📁 Saved significant genus-level taxa to 'significant_genus_taxa.txt'\n"
     ]
    },
    {
     "data": {
      "application/vnd.microsoft.datawrangler.viewer.v0+json": {
       "columns": [
        {
         "name": "disease",
         "rawType": "object",
         "type": "string"
        },
        {
         "name": "n_taxa_tested",
         "rawType": "int64",
         "type": "integer"
        },
        {
         "name": "n_significant",
         "rawType": "int64",
         "type": "integer"
        }
       ],
       "ref": "4aa025f4-d3a8-4b35-8111-e02b42b488fd",
       "rows": [
        [
         "D015179",
         "210",
         "95"
        ],
        [
         "D003015",
         "163",
         "97"
        ],
        [
         "D003093",
         "151",
         "85"
        ],
        [
         "D043183",
         "146",
         "75"
        ],
        [
         "D003248",
         "139",
         "64"
        ],
        [
         "D013959",
         "133",
         "69"
        ],
        [
         "D015212",
         "131",
         "59"
        ],
        [
         "D003967",
         "129",
         "49"
        ],
        [
         "D008881",
         "127",
         "58"
        ],
        [
         "D003424",
         "126",
         "60"
        ],
        [
         "D001327",
         "125",
         "63"
        ],
        [
         "D008171",
         "122",
         "58"
        ],
        [
         "D013274",
         "121",
         "115"
        ],
        [
         "D001714",
         "118",
         "44"
        ],
        [
         "D007410",
         "115",
         "46"
        ],
        [
         "D003924",
         "110",
         "46"
        ],
        [
         "D003920",
         "107",
         "43"
        ],
        [
         "D003863",
         "106",
         "42"
        ],
        [
         "D012559",
         "105",
         "37"
        ],
        [
         "D054198",
         "95",
         "64"
        ],
        [
         "D019337",
         "94",
         "55"
        ],
        [
         "D000067877",
         "94",
         "23"
        ],
        [
         "D001289",
         "92",
         "34"
        ],
        [
         "D003108",
         "88",
         "47"
        ],
        [
         "D002318",
         "87",
         "27"
        ],
        [
         "D000236",
         "83",
         "35"
        ],
        [
         "D001321",
         "78",
         "26"
        ],
        [
         "D009765",
         "76",
         "48"
        ],
        [
         "D015497",
         "75",
         "27"
        ],
        [
         "D002446",
         "74",
         "20"
        ],
        [
         "D008107",
         "73",
         "21"
        ],
        [
         "D007674",
         "71",
         "11"
        ],
        [
         "D012778",
         "69",
         "28"
        ],
        [
         "D008103",
         "69",
         "30"
        ],
        [
         "D008545",
         "69",
         "25"
        ],
        [
         "D005764",
         "68",
         "37"
        ],
        [
         "D037841",
         "67",
         "28"
        ],
        [
         "D003550",
         "64",
         "27"
        ],
        [
         "D004827",
         "63",
         "11"
        ],
        [
         "D007230",
         "62",
         "36"
        ],
        [
         "D065626",
         "61",
         "13"
        ],
        [
         "D007234",
         "58",
         "40"
        ],
        [
         "D016360",
         "56",
         "19"
        ],
        [
         "D016640",
         "53",
         "14"
        ],
        [
         "D012400",
         "53",
         "15"
        ],
        [
         "D006678",
         "51",
         "23"
        ],
        [
         "D007676",
         "50",
         "20"
        ],
        [
         "D001943",
         "49",
         "20"
        ],
        [
         "D000067011",
         "48",
         "20"
        ],
        [
         "D001249",
         "48",
         "23"
        ]
       ],
       "shape": {
        "columns": 2,
        "rows": 65
       }
      },
      "text/html": [
       "<div>\n",
       "<style scoped>\n",
       "    .dataframe tbody tr th:only-of-type {\n",
       "        vertical-align: middle;\n",
       "    }\n",
       "\n",
       "    .dataframe tbody tr th {\n",
       "        vertical-align: top;\n",
       "    }\n",
       "\n",
       "    .dataframe thead th {\n",
       "        text-align: right;\n",
       "    }\n",
       "</style>\n",
       "<table border=\"1\" class=\"dataframe\">\n",
       "  <thead>\n",
       "    <tr style=\"text-align: right;\">\n",
       "      <th></th>\n",
       "      <th>n_taxa_tested</th>\n",
       "      <th>n_significant</th>\n",
       "    </tr>\n",
       "    <tr>\n",
       "      <th>disease</th>\n",
       "      <th></th>\n",
       "      <th></th>\n",
       "    </tr>\n",
       "  </thead>\n",
       "  <tbody>\n",
       "    <tr>\n",
       "      <th>D015179</th>\n",
       "      <td>210</td>\n",
       "      <td>95</td>\n",
       "    </tr>\n",
       "    <tr>\n",
       "      <th>D003015</th>\n",
       "      <td>163</td>\n",
       "      <td>97</td>\n",
       "    </tr>\n",
       "    <tr>\n",
       "      <th>D003093</th>\n",
       "      <td>151</td>\n",
       "      <td>85</td>\n",
       "    </tr>\n",
       "    <tr>\n",
       "      <th>D043183</th>\n",
       "      <td>146</td>\n",
       "      <td>75</td>\n",
       "    </tr>\n",
       "    <tr>\n",
       "      <th>D003248</th>\n",
       "      <td>139</td>\n",
       "      <td>64</td>\n",
       "    </tr>\n",
       "    <tr>\n",
       "      <th>...</th>\n",
       "      <td>...</td>\n",
       "      <td>...</td>\n",
       "    </tr>\n",
       "    <tr>\n",
       "      <th>D003922</th>\n",
       "      <td>37</td>\n",
       "      <td>6</td>\n",
       "    </tr>\n",
       "    <tr>\n",
       "      <th>D016918</th>\n",
       "      <td>36</td>\n",
       "      <td>9</td>\n",
       "    </tr>\n",
       "    <tr>\n",
       "      <th>D006111</th>\n",
       "      <td>35</td>\n",
       "      <td>18</td>\n",
       "    </tr>\n",
       "    <tr>\n",
       "      <th>D050177</th>\n",
       "      <td>35</td>\n",
       "      <td>16</td>\n",
       "    </tr>\n",
       "    <tr>\n",
       "      <th>D011565</th>\n",
       "      <td>31</td>\n",
       "      <td>17</td>\n",
       "    </tr>\n",
       "  </tbody>\n",
       "</table>\n",
       "<p>65 rows × 2 columns</p>\n",
       "</div>"
      ],
      "text/plain": [
       "         n_taxa_tested  n_significant\n",
       "disease                              \n",
       "D015179            210             95\n",
       "D003015            163             97\n",
       "D003093            151             85\n",
       "D043183            146             75\n",
       "D003248            139             64\n",
       "...                ...            ...\n",
       "D003922             37              6\n",
       "D016918             36              9\n",
       "D006111             35             18\n",
       "D050177             35             16\n",
       "D011565             31             17\n",
       "\n",
       "[65 rows x 2 columns]"
      ]
     },
     "metadata": {},
     "output_type": "display_data"
    },
    {
     "data": {
      "application/vnd.microsoft.datawrangler.viewer.v0+json": {
       "columns": [
        {
         "name": "index",
         "rawType": "int64",
         "type": "integer"
        },
        {
         "name": "taxon",
         "rawType": "int64",
         "type": "integer"
        },
        {
         "name": "disease",
         "rawType": "object",
         "type": "string"
        },
        {
         "name": "p_value",
         "rawType": "float64",
         "type": "float"
        },
        {
         "name": "mean_healthy",
         "rawType": "float64",
         "type": "float"
        },
        {
         "name": "mean_disease",
         "rawType": "float64",
         "type": "float"
        },
        {
         "name": "diff_mean",
         "rawType": "float64",
         "type": "float"
        },
        {
         "name": "p_adj",
         "rawType": "float64",
         "type": "float"
        }
       ],
       "ref": "d5cd5fe8-ae83-4ced-9a6b-d3da148bc6fe",
       "rows": [
        [
         "5166",
         "841",
         "D013964",
         "0.000999000999000999",
         "1.0048177393333333",
         "2.9411876000000006",
         "1.9363698606666673",
         "0.0032964500645109008"
        ],
        [
         "5106",
         "33042",
         "D006111",
         "0.000999000999000999",
         "0.40904252435897437",
         "1.3498400256410257",
         "0.9407975012820513",
         "0.0032964500645109008"
        ],
        [
         "5108",
         "44748",
         "D006111",
         "0.000999000999000999",
         "0.03582724692307693",
         "0.25733115384615385",
         "0.22150390692307692",
         "0.0032964500645109008"
        ],
        [
         "2215",
         "2132",
         "D003108",
         "0.000999000999000999",
         "0.06545615800277009",
         "0.7429602484764544",
         "0.6775040904736843",
         "0.0032964500645109008"
        ],
        [
         "2216",
         "2172",
         "D003108",
         "0.000999000999000999",
         "0.3129746519612188",
         "1.862007337686981",
         "1.5490326857257621",
         "0.0032964500645109008"
        ],
        [
         "2219",
         "39948",
         "D003108",
         "0.000999000999000999",
         "1.4934952560554016",
         "0.5916869649861496",
         "-0.901808291069252",
         "0.0032964500645109008"
        ],
        [
         "2220",
         "44249",
         "D003108",
         "0.000999000999000999",
         "0.013357415473684213",
         "0.05545342798891967",
         "0.042096012515235454",
         "0.0032964500645109008"
        ],
        [
         "2222",
         "83770",
         "D003108",
         "0.000999000999000999",
         "9.204139889196676e-05",
         "0.06202499542659279",
         "0.06193295402770082",
         "0.0032964500645109008"
        ],
        [
         "12",
         "1730",
         "D003924",
         "0.000999000999000999",
         "3.4133856771134017",
         "5.663917620381444",
         "2.250531943268042",
         "0.0032964500645109008"
        ],
        [
         "5118",
         "1506553",
         "D006111",
         "0.000999000999000999",
         "0.553468446153846",
         "1.61527",
         "1.0618015538461538",
         "0.0032964500645109008"
        ],
        [
         "5119",
         "1506577",
         "D006111",
         "0.000999000999000999",
         "0.020063070256410256",
         "0.20250069743589744",
         "0.1824376271794872",
         "0.0032964500645109008"
        ],
        [
         "5158",
         "1573535",
         "D050031",
         "0.000999000999000999",
         "0.04038115628571429",
         "0.4937456551428572",
         "0.4533644988571429",
         "0.0032964500645109008"
        ],
        [
         "5159",
         "1870884",
         "D050031",
         "0.000999000999000999",
         "0.001462379428571429",
         "0.23147304171428576",
         "0.23001066228571432",
         "0.0032964500645109008"
        ],
        [
         "5160",
         "2048137",
         "D050031",
         "0.000999000999000999",
         "0.20250995714285713",
         "0.9427325714285715",
         "0.7402226142857143",
         "0.0032964500645109008"
        ],
        [
         "5163",
         "570",
         "D013964",
         "0.000999000999000999",
         "0.002164089133333333",
         "0.25745415066666666",
         "0.25529006153333333",
         "0.0032964500645109008"
        ],
        [
         "5164",
         "816",
         "D013964",
         "0.000999000999000999",
         "30.174849769999998",
         "10.501413333333334",
         "-19.673436436666663",
         "0.0032964500645109008"
        ],
        [
         "75",
         "89523",
         "D003924",
         "0.000999000999000999",
         "0.0",
         "0.02691649569587629",
         "0.02691649569587629",
         "0.0032964500645109008"
        ],
        [
         "77",
         "1279388",
         "D003924",
         "0.000999000999000999",
         "0.021987760237113404",
         "0.18162252277061855",
         "0.15963476253350514",
         "0.0032964500645109008"
        ],
        [
         "78",
         "1505663",
         "D003924",
         "0.000999000999000999",
         "0.2630083209226804",
         "0.048377689471649485",
         "-0.2146306314510309",
         "0.0032964500645109008"
        ],
        [
         "5135",
         "1386",
         "D050031",
         "0.000999000999000999",
         "0.024533554857142863",
         "0.23231524571428566",
         "0.2077816908571428",
         "0.0032964500645109008"
        ],
        [
         "8",
         "1263",
         "D003924",
         "0.000999000999000999",
         "2.315772294943299",
         "4.161259351618557",
         "1.8454870566752577",
         "0.0032964500645109008"
        ],
        [
         "5201",
         "2747",
         "D013964",
         "0.000999000999000999",
         "0.0007742490000000001",
         "0.311827013",
         "0.311052764",
         "0.0032964500645109008"
        ],
        [
         "5200",
         "1988",
         "D013964",
         "0.000999000999000999",
         "0.0",
         "0.04899527066666666",
         "0.04899527066666666",
         "0.0032964500645109008"
        ],
        [
         "11",
         "1678",
         "D003924",
         "0.000999000999000999",
         "9.081219237548968",
         "3.7507239155412377",
         "-5.33049532200773",
         "0.0032964500645109008"
        ],
        [
         "5147",
         "239759",
         "D050031",
         "0.000999000999000999",
         "3.549495015142857",
         "0.34367877142857145",
         "-3.2058162437142856",
         "0.0032964500645109008"
        ],
        [
         "5149",
         "397864",
         "D050031",
         "0.000999000999000999",
         "1.2302115685714283",
         "0.09555577257142858",
         "-1.1346557959999997",
         "0.0032964500645109008"
        ],
        [
         "5151",
         "572511",
         "D050031",
         "0.000999000999000999",
         "2.2679914028571426",
         "5.536002857142857",
         "3.2680114542857144",
         "0.0032964500645109008"
        ],
        [
         "5154",
         "1505657",
         "D050031",
         "0.000999000999000999",
         "0.07119358542857143",
         "0.8974998857142858",
         "0.8263063002857144",
         "0.0032964500645109008"
        ],
        [
         "5155",
         "1505663",
         "D050031",
         "0.000999000999000999",
         "0.2256061474285714",
         "2.1996506",
         "1.9740444525714287",
         "0.0032964500645109008"
        ],
        [
         "5156",
         "1506553",
         "D050031",
         "0.000999000999000999",
         "0.5379428114285715",
         "3.4386900857142857",
         "2.900747274285714",
         "0.0032964500645109008"
        ],
        [
         "66",
         "1243",
         "D003924",
         "0.000999000999000999",
         "0.0022943156056701034",
         "0.01448730631958763",
         "0.012192990713917527",
         "0.0032964500645109008"
        ],
        [
         "68",
         "32008",
         "D003924",
         "0.000999000999000999",
         "0.00024389351030927833",
         "0.027738708716494847",
         "0.027494815206185567",
         "0.0032964500645109008"
        ],
        [
         "2214",
         "1730",
         "D003108",
         "0.000999000999000999",
         "3.582433287268698",
         "0.4593059708310249",
         "-3.123127316437673",
         "0.0032964500645109008"
        ],
        [
         "1",
         "570",
         "D003924",
         "0.000999000999000999",
         "0.0710213523015464",
         "0.4649418322371134",
         "0.393920479935567",
         "0.0032964500645109008"
        ],
        [
         "5204",
         "42255",
         "D013964",
         "0.000999000999000999",
         "0.0",
         "0.04186874966666666",
         "0.04186874966666666",
         "0.0032964500645109008"
        ],
        [
         "5203",
         "33986",
         "D013964",
         "0.000999000999000999",
         "0.00024589766666666666",
         "0.06518448766666667",
         "0.06493859",
         "0.0032964500645109008"
        ],
        [
         "5202",
         "13334",
         "D013964",
         "0.000999000999000999",
         "6.7264e-05",
         "0.11659627733333336",
         "0.11652901333333336",
         "0.0032964500645109008"
        ],
        [
         "7",
         "906",
         "D003924",
         "0.000999000999000999",
         "0.14479417212886597",
         "2.3956620555927834",
         "2.2508678834639175",
         "0.0032964500645109008"
        ],
        [
         "115",
         "1301",
         "D003093",
         "0.000999000999000999",
         "1.4726880080961704",
         "3.2331579875574468",
         "1.7604699794612764",
         "0.0032964500645109008"
        ],
        [
         "117",
         "1485",
         "D003093",
         "0.000999000999000999",
         "2.1051023533276596",
         "4.604044764731915",
         "2.4989424114042555",
         "0.0032964500645109008"
        ],
        [
         "2229",
         "239934",
         "D003108",
         "0.000999000999000999",
         "1.5210619743213294",
         "3.4703104419113577",
         "1.9492484675900283",
         "0.0032964500645109008"
        ],
        [
         "5193",
         "1506553",
         "D013964",
         "0.000999000999000999",
         "0.6162665066666667",
         "2.0749067666666665",
         "1.4586402599999997",
         "0.0032964500645109008"
        ],
        [
         "2231",
         "375288",
         "D003108",
         "0.000999000999000999",
         "2.27340897232687",
         "1.293427025761773",
         "-0.979981946565097",
         "0.0032964500645109008"
        ],
        [
         "2233",
         "459786",
         "D003108",
         "0.000999000999000999",
         "0.763467218033241",
         "0.3626839239612189",
         "-0.4007832940720221",
         "0.0032964500645109008"
        ],
        [
         "5183",
         "216851",
         "D013964",
         "0.000999000999000999",
         "4.552701939866666",
         "12.814599",
         "8.261897060133332",
         "0.0032964500645109008"
        ],
        [
         "2235",
         "574697",
         "D003108",
         "0.000999000999000999",
         "0.03408711408864266",
         "0.14425364855955677",
         "0.11016653447091412",
         "0.0032964500645109008"
        ],
        [
         "5199",
         "1357",
         "D013964",
         "0.000999000999000999",
         "0.030298583766666665",
         "1.8384372233333333",
         "1.8081386395666665",
         "0.0032964500645109008"
        ],
        [
         "61",
         "638847",
         "D003924",
         "0.000999000999000999",
         "0.0",
         "0.01961848644845361",
         "0.01961848644845361",
         "0.0032964500645109008"
        ],
        [
         "2241",
         "1508657",
         "D003108",
         "0.000999000999000999",
         "0.8401191691551247",
         "2.372485452631579",
         "1.5323662834764544",
         "0.0032964500645109008"
        ],
        [
         "5197",
         "2048137",
         "D013964",
         "0.000999000999000999",
         "0.06989825899999999",
         "0.5240256666666666",
         "0.4541274076666666",
         "0.0032964500645109008"
        ]
       ],
       "shape": {
        "columns": 7,
        "rows": 5207
       }
      },
      "text/html": [
       "<div>\n",
       "<style scoped>\n",
       "    .dataframe tbody tr th:only-of-type {\n",
       "        vertical-align: middle;\n",
       "    }\n",
       "\n",
       "    .dataframe tbody tr th {\n",
       "        vertical-align: top;\n",
       "    }\n",
       "\n",
       "    .dataframe thead th {\n",
       "        text-align: right;\n",
       "    }\n",
       "</style>\n",
       "<table border=\"1\" class=\"dataframe\">\n",
       "  <thead>\n",
       "    <tr style=\"text-align: right;\">\n",
       "      <th></th>\n",
       "      <th>taxon</th>\n",
       "      <th>disease</th>\n",
       "      <th>p_value</th>\n",
       "      <th>mean_healthy</th>\n",
       "      <th>mean_disease</th>\n",
       "      <th>diff_mean</th>\n",
       "      <th>p_adj</th>\n",
       "    </tr>\n",
       "  </thead>\n",
       "  <tbody>\n",
       "    <tr>\n",
       "      <th>5166</th>\n",
       "      <td>841</td>\n",
       "      <td>D013964</td>\n",
       "      <td>0.000999</td>\n",
       "      <td>1.004818</td>\n",
       "      <td>2.941188</td>\n",
       "      <td>1.936370</td>\n",
       "      <td>0.003296</td>\n",
       "    </tr>\n",
       "    <tr>\n",
       "      <th>5106</th>\n",
       "      <td>33042</td>\n",
       "      <td>D006111</td>\n",
       "      <td>0.000999</td>\n",
       "      <td>0.409043</td>\n",
       "      <td>1.349840</td>\n",
       "      <td>0.940798</td>\n",
       "      <td>0.003296</td>\n",
       "    </tr>\n",
       "    <tr>\n",
       "      <th>5108</th>\n",
       "      <td>44748</td>\n",
       "      <td>D006111</td>\n",
       "      <td>0.000999</td>\n",
       "      <td>0.035827</td>\n",
       "      <td>0.257331</td>\n",
       "      <td>0.221504</td>\n",
       "      <td>0.003296</td>\n",
       "    </tr>\n",
       "    <tr>\n",
       "      <th>2215</th>\n",
       "      <td>2132</td>\n",
       "      <td>D003108</td>\n",
       "      <td>0.000999</td>\n",
       "      <td>0.065456</td>\n",
       "      <td>0.742960</td>\n",
       "      <td>0.677504</td>\n",
       "      <td>0.003296</td>\n",
       "    </tr>\n",
       "    <tr>\n",
       "      <th>2216</th>\n",
       "      <td>2172</td>\n",
       "      <td>D003108</td>\n",
       "      <td>0.000999</td>\n",
       "      <td>0.312975</td>\n",
       "      <td>1.862007</td>\n",
       "      <td>1.549033</td>\n",
       "      <td>0.003296</td>\n",
       "    </tr>\n",
       "    <tr>\n",
       "      <th>...</th>\n",
       "      <td>...</td>\n",
       "      <td>...</td>\n",
       "      <td>...</td>\n",
       "      <td>...</td>\n",
       "      <td>...</td>\n",
       "      <td>...</td>\n",
       "      <td>...</td>\n",
       "    </tr>\n",
       "    <tr>\n",
       "      <th>5140</th>\n",
       "      <td>33042</td>\n",
       "      <td>D050031</td>\n",
       "      <td>1.000000</td>\n",
       "      <td>1.611750</td>\n",
       "      <td>1.020060</td>\n",
       "      <td>-0.591689</td>\n",
       "      <td>1.000000</td>\n",
       "    </tr>\n",
       "    <tr>\n",
       "      <th>81</th>\n",
       "      <td>1573535</td>\n",
       "      <td>D003924</td>\n",
       "      <td>0.988012</td>\n",
       "      <td>0.101011</td>\n",
       "      <td>0.101607</td>\n",
       "      <td>0.000596</td>\n",
       "      <td>1.000000</td>\n",
       "    </tr>\n",
       "    <tr>\n",
       "      <th>55</th>\n",
       "      <td>547</td>\n",
       "      <td>D003924</td>\n",
       "      <td>1.000000</td>\n",
       "      <td>0.171584</td>\n",
       "      <td>0.080214</td>\n",
       "      <td>-0.091370</td>\n",
       "      <td>1.000000</td>\n",
       "    </tr>\n",
       "    <tr>\n",
       "      <th>65</th>\n",
       "      <td>150022</td>\n",
       "      <td>D003924</td>\n",
       "      <td>0.987013</td>\n",
       "      <td>0.004954</td>\n",
       "      <td>0.005821</td>\n",
       "      <td>0.000867</td>\n",
       "      <td>1.000000</td>\n",
       "    </tr>\n",
       "    <tr>\n",
       "      <th>2193</th>\n",
       "      <td>2723</td>\n",
       "      <td>D008545</td>\n",
       "      <td>1.000000</td>\n",
       "      <td>0.013793</td>\n",
       "      <td>0.020939</td>\n",
       "      <td>0.007146</td>\n",
       "      <td>1.000000</td>\n",
       "    </tr>\n",
       "  </tbody>\n",
       "</table>\n",
       "<p>5207 rows × 7 columns</p>\n",
       "</div>"
      ],
      "text/plain": [
       "        taxon  disease   p_value  mean_healthy  mean_disease  diff_mean  \\\n",
       "5166      841  D013964  0.000999      1.004818      2.941188   1.936370   \n",
       "5106    33042  D006111  0.000999      0.409043      1.349840   0.940798   \n",
       "5108    44748  D006111  0.000999      0.035827      0.257331   0.221504   \n",
       "2215     2132  D003108  0.000999      0.065456      0.742960   0.677504   \n",
       "2216     2172  D003108  0.000999      0.312975      1.862007   1.549033   \n",
       "...       ...      ...       ...           ...           ...        ...   \n",
       "5140    33042  D050031  1.000000      1.611750      1.020060  -0.591689   \n",
       "81    1573535  D003924  0.988012      0.101011      0.101607   0.000596   \n",
       "55        547  D003924  1.000000      0.171584      0.080214  -0.091370   \n",
       "65     150022  D003924  0.987013      0.004954      0.005821   0.000867   \n",
       "2193     2723  D008545  1.000000      0.013793      0.020939   0.007146   \n",
       "\n",
       "         p_adj  \n",
       "5166  0.003296  \n",
       "5106  0.003296  \n",
       "5108  0.003296  \n",
       "2215  0.003296  \n",
       "2216  0.003296  \n",
       "...        ...  \n",
       "5140  1.000000  \n",
       "81    1.000000  \n",
       "55    1.000000  \n",
       "65    1.000000  \n",
       "2193  1.000000  \n",
       "\n",
       "[5207 rows x 7 columns]"
      ]
     },
     "metadata": {},
     "output_type": "display_data"
    }
   ],
   "source": [
    "import pandas as pd\n",
    "import numpy as np\n",
    "import matplotlib.pyplot as plt\n",
    "from statsmodels.stats.multitest import multipletests\n",
    "from tqdm.notebook import tqdm\n",
    "import seaborn as sns\n",
    "\n",
    "# ---------------------------\n",
    "# Configuration\n",
    "# ---------------------------\n",
    "HEALTHY_CODE = \"D006262\"\n",
    "N_PERMUTATIONS = 1000\n",
    "RANDOM_SEED = 42\n",
    "\n",
    "# ---------------------------\n",
    "# Permutation Test Function\n",
    "# ---------------------------\n",
    "def permutation_test(x, y, num_permutations=N_PERMUTATIONS, stat_func=np.mean):\n",
    "    observed = stat_func(y) - stat_func(x)\n",
    "    combined = np.concatenate([x, y])\n",
    "    count = 0\n",
    "    for _ in range(num_permutations):\n",
    "        np.random.shuffle(combined)\n",
    "        new_x = combined[:len(x)]\n",
    "        new_y = combined[len(x):]\n",
    "        perm_stat = stat_func(new_y) - stat_func(new_x)\n",
    "        if abs(perm_stat) >= abs(observed):\n",
    "            count += 1\n",
    "    return (count + 1) / (num_permutations + 1)\n",
    "\n",
    "# ---------------------------\n",
    "# Prepare Data\n",
    "# ---------------------------\n",
    "disease_codes_genus = df_genus_retained['disease'].unique()\n",
    "disease_codes_genus = [d for d in disease_codes_genus if d != HEALTHY_CODE]\n",
    "\n",
    "healthy_df_genus = df_genus_retained[df_genus_retained['disease'] == HEALTHY_CODE]\n",
    "healthy_uids_genus = healthy_df_genus['loaded_uid'].unique()\n",
    "\n",
    "# ---------------------------\n",
    "# Run Permutation Testing\n",
    "# ---------------------------\n",
    "results_genus = []\n",
    "rng = np.random.default_rng(RANDOM_SEED)\n",
    "\n",
    "for disease_code in tqdm(disease_codes_genus, desc=\"Diseases\", position=0):\n",
    "    disease_df_genus = df_genus_retained[df_genus_retained['disease'] == disease_code]\n",
    "    disease_uids_genus = disease_df_genus['loaded_uid'].unique()\n",
    "    disease_taxa_genus = disease_df_genus['ncbi_taxon_id'].unique()\n",
    "\n",
    "    for taxon in tqdm(disease_taxa_genus, desc=f\"Taxa in {disease_code}\", position=1, leave=False):\n",
    "        disease_series = disease_df_genus[disease_df_genus['ncbi_taxon_id'] == taxon].set_index('loaded_uid')['relative_abundance']\n",
    "        healthy_series = healthy_df_genus[healthy_df_genus['ncbi_taxon_id'] == taxon].set_index('loaded_uid')['relative_abundance']\n",
    "\n",
    "        disease_vals = disease_series.reindex(disease_uids_genus, fill_value=0).values\n",
    "        healthy_vals = healthy_series.reindex(healthy_uids_genus, fill_value=0).values\n",
    "\n",
    "        # Skip if absent in both groups\n",
    "        if np.all(disease_vals == 0) and np.all(healthy_vals == 0):\n",
    "            continue\n",
    "\n",
    "        # Skip if present in healthy but completely absent in disease\n",
    "        if np.any(healthy_vals > 0) and np.all(disease_vals == 0):\n",
    "            continue\n",
    "\n",
    "        # Downsample to equal sample size\n",
    "        if len(healthy_vals) > len(disease_vals):\n",
    "            healthy_vals = rng.choice(healthy_vals, size=len(disease_vals), replace=False)\n",
    "        elif len(disease_vals) > len(healthy_vals):\n",
    "            disease_vals = rng.choice(disease_vals, size=len(healthy_vals), replace=False)\n",
    "\n",
    "        # Run permutation test\n",
    "        p_val = permutation_test(healthy_vals, disease_vals)\n",
    "\n",
    "        # Store result\n",
    "        results_genus.append({\n",
    "            'taxon': taxon,\n",
    "            'disease': disease_code,\n",
    "            'p_value': p_val,\n",
    "            'mean_healthy': np.mean(healthy_vals),\n",
    "            'mean_disease': np.mean(disease_vals),\n",
    "            'diff_mean': np.mean(disease_vals) - np.mean(healthy_vals)\n",
    "        })\n",
    "\n",
    "# ---------------------------\n",
    "# Process Results\n",
    "# ---------------------------\n",
    "results_df_genus = pd.DataFrame(results_genus)\n",
    "\n",
    "if not results_df_genus.empty:\n",
    "    # FDR correction\n",
    "    results_df_genus['p_adj'] = multipletests(results_df_genus['p_value'], method='fdr_bh')[1]\n",
    "\n",
    "    # Summary Table\n",
    "    summary_table_genus = (\n",
    "        results_df_genus\n",
    "        .groupby(\"disease\")\n",
    "        .agg(\n",
    "            n_taxa_tested=(\"taxon\", \"nunique\"),\n",
    "            n_significant=(\"p_adj\", lambda x: (x < 0.05).sum())\n",
    "        )\n",
    "        .sort_values(\"n_taxa_tested\", ascending=False)\n",
    "    )\n",
    "\n",
    "    # ---------------------------\n",
    "    # Plot with disease names\n",
    "    # ---------------------------\n",
    "    plot_df_genus = summary_table_genus.reset_index()\n",
    "    plot_df_genus['disease_name'] = plot_df_genus['disease'].map(disease_dict).fillna(plot_df_genus['disease'])\n",
    "    plot_df_genus = plot_df_genus.sort_values(\"n_taxa_tested\", ascending=False)\n",
    "\n",
    "    plt.figure(figsize=(22, 10))\n",
    "    x = np.arange(len(plot_df_genus))\n",
    "    width = 0.35\n",
    "\n",
    "    plt.bar(x - width/2, plot_df_genus['n_taxa_tested'], width=width, label='Tested Taxa',\n",
    "            color='lightgrey', edgecolor='black', linewidth=0.8)\n",
    "    plt.bar(x + width/2, plot_df_genus['n_significant'], width=width, label='Significant (FDR < 0.05)',\n",
    "            color='teal', edgecolor='black', linewidth=0.8)\n",
    "\n",
    "    plt.xticks(x, plot_df_genus['disease_name'], rotation=90)\n",
    "    plt.ylabel(\"Number of Unique Taxa\")\n",
    "    plt.title(\"Differentially Abundant Taxa per Disease (Genus Level)\", fontweight='bold')\n",
    "    plt.legend()\n",
    "    plt.margins(x=0.01)  # Reduce side padding\n",
    "    plt.tight_layout()\n",
    "    plt.show()\n",
    "\n",
    "    # ---------------------------\n",
    "    # Create filtered sample-level data with only significant taxa\n",
    "    # ---------------------------\n",
    "    sig_taxa_genus = results_df_genus.query(\"p_adj < 0.05\")[[\"disease\", \"taxon\"]].drop_duplicates()\n",
    "    df_genus_significant = df_genus_retained.merge(\n",
    "        sig_taxa_genus,\n",
    "        left_on=[\"disease\", \"ncbi_taxon_id\"],\n",
    "        right_on=[\"disease\", \"taxon\"],\n",
    "        how=\"inner\"\n",
    "    ).drop(columns=\"taxon\")\n",
    "\n",
    "    # ---------------------------\n",
    "    # Descriptive Summary\n",
    "    # ---------------------------\n",
    "    print(\"✅ PERMUTATION TESTING COMPLETE\")\n",
    "    print(f\"• Total diseases tested: {len(summary_table_genus)}\")\n",
    "    print(f\"• Total (disease, taxon) pairs tested: {results_df_genus.shape[0]}\")\n",
    "    print(f\"• Total significant pairs (FDR < 0.05): {(results_df_genus['p_adj'] < 0.05).sum()}\")\n",
    "    print(f\"• Shape of df_genus_significant: {df_genus_significant.shape}\")\n",
    "    print(f\"• Unique significant taxa: {df_genus_significant['ncbi_taxon_id'].nunique()}\")\n",
    "    print(f\"• Diseases with significant taxa: {df_genus_significant['disease'].nunique()}\")\n",
    "    \n",
    "    # ---------------------------\n",
    "    # Save Significant Taxa Data\n",
    "    # ---------------------------\n",
    "    df_genus_significant.to_csv(\"/mnt/iusers01/fatpou01/bmh01/msc-bioinf-2024-2025/h44063jg/microbiome_project/diff_taxa_abundance_analysis/significant_genus_taxa.txt\", sep=\"\\t\", index=False)\n",
    "    print(\"📁 Saved significant genus-level taxa to 'significant_genus_taxa.txt'\")  \n",
    "\n",
    "    display(summary_table_genus)\n",
    "    display(results_df_genus.sort_values(\"p_adj\"))\n",
    "\n",
    "else:\n",
    "    print(\"⚠️ No valid taxa comparisons passed filtering.\")\n"
   ]
  },
  {
   "cell_type": "markdown",
   "id": "a5b3811d",
   "metadata": {},
   "source": [
    "___"
   ]
  },
  {
   "cell_type": "code",
   "execution_count": 6,
   "id": "6592c2c3",
   "metadata": {},
   "outputs": [
    {
     "name": "stdout",
     "output_type": "stream",
     "text": [
      "══════════════════════════════════════════════════════════════\n",
      "MICROBIOME TAXON FILTERING — DISEASE-SPECIFIC LOGIC\n",
      "──────────────────────────────────────────────────────────────\n",
      "Filtering Criteria:\n",
      " - Prevalence ≥ 10%\n",
      " - Max Relative Abundance > 1%\n",
      " - Filtering is done within each disease group independently\n",
      "══════════════════════════════════════════════════════════════\n",
      "\n",
      "[Step 1] Removed unknown taxa: 30186 rows removed\n",
      "[Step 2] Valid diseases retained (≥30 samples): 66 diseases\n",
      "[Step 2] Remaining rows after disease filtering: 5157360\n"
     ]
    },
    {
     "name": "stdout",
     "output_type": "stream",
     "text": [
      "[Step 3] Number of (disease, taxon) pairs before filtering: 134507\n",
      "[Step 4] (Disease, taxon) pairs retained after filtering: 14209\n",
      "[Step 4] Unique taxa retained: 1547\n",
      "[Step 4] Diseases with retained taxa: 66\n",
      "[Step 5] Final retained rows: 3136580\n",
      "\n",
      "[Step 6] Number of unique taxa per disease: BEFORE vs AFTER filtering\n",
      "         taxa_before_filtering  taxa_after_filtering\n",
      "disease                                             \n",
      "D006262                   6189                  1050\n",
      "D015212                   5216                   389\n",
      "D013274                   4787                   235\n",
      "D015179                   4596                   571\n",
      "D003924                   4351                   286\n",
      "...                        ...                   ...\n",
      "D014376                    312                   104\n",
      "D006973                    296                   103\n",
      "D014607                    267                   102\n",
      "D007234                    260                   148\n",
      "D050177                    174                    77\n",
      "\n",
      "[66 rows x 2 columns]\n"
     ]
    }
   ],
   "source": [
    "# SPECIES LEVEL MONTE CARLO PERMUTATIION FOR IDENTIFICATION OF DIFFERENTAILLY ABUNDANT TAXA - SPECIES LEVEL\n",
    "# ───────────────────────────────────────────────────────────────\n",
    "# FILTERING CRITERIA\n",
    "# ───────────────────────────────────────────────────────────────\n",
    "prevalence_threshold = 10  # in percentage\n",
    "abundance_threshold = 1    # in percentage\n",
    "\n",
    "print(\"══════════════════════════════════════════════════════════════\")\n",
    "print(\"MICROBIOME TAXON FILTERING — DISEASE-SPECIFIC LOGIC\")\n",
    "print(\"──────────────────────────────────────────────────────────────\")\n",
    "print(f\"Filtering Criteria:\")\n",
    "print(f\" - Prevalence ≥ {prevalence_threshold}%\")\n",
    "print(f\" - Max Relative Abundance > {abundance_threshold}%\")\n",
    "print(\" - Filtering is done within each disease group independently\")\n",
    "print(\"══════════════════════════════════════════════════════════════\\n\")\n",
    "\n",
    "# ───────────────────────────────────────────────────────────────\n",
    "# Step 1: Remove unknown taxa\n",
    "# ───────────────────────────────────────────────────────────────\n",
    "df_species_cleaned = df_species[df_species['ncbi_taxon_id'] != -1].copy()\n",
    "print(f\"[Step 1] Removed unknown taxa: {df_species.shape[0] - df_species_cleaned.shape[0]} rows removed\")\n",
    "\n",
    "# ───────────────────────────────────────────────────────────────\n",
    "# Step 2: Remove diseases with <30 samples\n",
    "# ───────────────────────────────────────────────────────────────\n",
    "disease_sample_counts = (\n",
    "    df_species_cleaned[['loaded_uid', 'disease']]\n",
    "    .drop_duplicates()\n",
    "    .groupby('disease')\n",
    "    .size()\n",
    ")\n",
    "\n",
    "valid_diseases = disease_sample_counts[disease_sample_counts >= 30].index\n",
    "df_species_cleaned = df_species_cleaned[df_species_cleaned['disease'].isin(valid_diseases)].copy()\n",
    "\n",
    "print(f\"[Step 2] Valid diseases retained (≥30 samples): {len(valid_diseases)} diseases\")\n",
    "print(f\"[Step 2] Remaining rows after disease filtering: {df_species_cleaned.shape[0]}\")\n",
    "\n",
    "# ───────────────────────────────────────────────────────────────\n",
    "# Step 3: Group by disease and taxon, calculate prevalence and max abundance\n",
    "# ───────────────────────────────────────────────────────────────\n",
    "grouped = (\n",
    "    df_species_cleaned\n",
    "    .groupby(['disease', 'ncbi_taxon_id'])\n",
    "    .agg(\n",
    "        prevalence=('relative_abundance', lambda x: (x > 0).sum() / x.shape[0] * 100),\n",
    "        max_abundance=('relative_abundance', 'max')\n",
    "    )\n",
    "    .reset_index()\n",
    ")\n",
    "\n",
    "print(f\"[Step 3] Number of (disease, taxon) pairs before filtering: {grouped.shape[0]}\")\n",
    "\n",
    "# ───────────────────────────────────────────────────────────────\n",
    "# Step 4: Apply primary filter (prevalence ≥ 10% and max_abundance > 1)\n",
    "# ───────────────────────────────────────────────────────────────\n",
    "primary_mask = (grouped[\"prevalence\"] >= prevalence_threshold) & (grouped[\"max_abundance\"] > abundance_threshold)\n",
    "grouped_filtered = grouped[primary_mask]\n",
    "\n",
    "print(f\"[Step 4] (Disease, taxon) pairs retained after filtering: {grouped_filtered.shape[0]}\")\n",
    "print(f\"[Step 4] Unique taxa retained: {grouped_filtered['ncbi_taxon_id'].nunique()}\")\n",
    "print(f\"[Step 4] Diseases with retained taxa: {grouped_filtered['disease'].nunique()}\")\n",
    "\n",
    "# ───────────────────────────────────────────────────────────────\n",
    "# Step 5: Filter the full dataset to retain only the valid (disease, taxon) pairs\n",
    "# ───────────────────────────────────────────────────────────────\n",
    "df_species_retained = df_species_cleaned.merge(\n",
    "    grouped_filtered[['disease', 'ncbi_taxon_id']],\n",
    "    on=['disease', 'ncbi_taxon_id'],\n",
    "    how='inner'\n",
    ")\n",
    "\n",
    "print(f\"[Step 5] Final retained rows: {df_species_retained.shape[0]}\")\n",
    "\n",
    "# ───────────────────────────────────────────────────────────────\n",
    "# Step 6: Compare number of unique taxa per disease: before vs. after\n",
    "# ───────────────────────────────────────────────────────────────\n",
    "before_counts = (\n",
    "    df_species_cleaned.groupby(\"disease\")[\"ncbi_taxon_id\"]\n",
    "    .nunique()\n",
    "    .rename(\"taxa_before_filtering\")\n",
    ")\n",
    "\n",
    "after_counts = (\n",
    "    df_species_retained.groupby(\"disease\")[\"ncbi_taxon_id\"]\n",
    "    .nunique()\n",
    "    .rename(\"taxa_after_filtering\")\n",
    ")\n",
    "\n",
    "comparison_df = pd.concat([before_counts, after_counts], axis=1).fillna(0).astype(int)\n",
    "\n",
    "print(\"\\n[Step 6] Number of unique taxa per disease: BEFORE vs AFTER filtering\")\n",
    "print(comparison_df.sort_values(\"taxa_before_filtering\", ascending=False))\n"
   ]
  },
  {
   "cell_type": "code",
   "execution_count": 7,
   "id": "0fe26eed",
   "metadata": {},
   "outputs": [
    {
     "data": {
      "application/vnd.jupyter.widget-view+json": {
       "model_id": "dd2ca0544ba946b897632f87c9d4379d",
       "version_major": 2,
       "version_minor": 0
      },
      "text/plain": [
       "Diseases:   0%|          | 0/65 [00:00<?, ?it/s]"
      ]
     },
     "metadata": {},
     "output_type": "display_data"
    },
    {
     "data": {
      "application/vnd.jupyter.widget-view+json": {
       "model_id": "c26a5f82737c4072a5e37a90e00ff095",
       "version_major": 2,
       "version_minor": 0
      },
      "text/plain": [
       "Taxa in D003924:   0%|          | 0/286 [00:00<?, ?it/s]"
      ]
     },
     "metadata": {},
     "output_type": "display_data"
    },
    {
     "data": {
      "application/vnd.jupyter.widget-view+json": {
       "model_id": "3c53c25ae96244e4b185cd5ae6b62b15",
       "version_major": 2,
       "version_minor": 0
      },
      "text/plain": [
       "Taxa in D003093:   0%|          | 0/434 [00:00<?, ?it/s]"
      ]
     },
     "metadata": {},
     "output_type": "display_data"
    },
    {
     "data": {
      "application/vnd.jupyter.widget-view+json": {
       "model_id": "96fbd656cf4a48bc8f99cbdbdfef8ce3",
       "version_major": 2,
       "version_minor": 0
      },
      "text/plain": [
       "Taxa in D003967:   0%|          | 0/356 [00:00<?, ?it/s]"
      ]
     },
     "metadata": {},
     "output_type": "display_data"
    },
    {
     "data": {
      "application/vnd.jupyter.widget-view+json": {
       "model_id": "df4ef4d841974ce2a5997130e7b29fc4",
       "version_major": 2,
       "version_minor": 0
      },
      "text/plain": [
       "Taxa in D003424:   0%|          | 0/336 [00:00<?, ?it/s]"
      ]
     },
     "metadata": {},
     "output_type": "display_data"
    },
    {
     "data": {
      "application/vnd.jupyter.widget-view+json": {
       "model_id": "9bc87502543a4525b514248fca88e072",
       "version_major": 2,
       "version_minor": 0
      },
      "text/plain": [
       "Taxa in D006973:   0%|          | 0/103 [00:00<?, ?it/s]"
      ]
     },
     "metadata": {},
     "output_type": "display_data"
    },
    {
     "data": {
      "application/vnd.jupyter.widget-view+json": {
       "model_id": "53ef600c6c9d4e4db0a32c4ebfc1795f",
       "version_major": 2,
       "version_minor": 0
      },
      "text/plain": [
       "Taxa in D007234:   0%|          | 0/148 [00:00<?, ?it/s]"
      ]
     },
     "metadata": {},
     "output_type": "display_data"
    },
    {
     "data": {
      "application/vnd.jupyter.widget-view+json": {
       "model_id": "500ccb5c5aeb48c6bf7a6e1147ccb73d",
       "version_major": 2,
       "version_minor": 0
      },
      "text/plain": [
       "Taxa in D015212:   0%|          | 0/389 [00:00<?, ?it/s]"
      ]
     },
     "metadata": {},
     "output_type": "display_data"
    },
    {
     "data": {
      "application/vnd.jupyter.widget-view+json": {
       "model_id": "d324495ea5f641a3b484a7287a25bc7c",
       "version_major": 2,
       "version_minor": 0
      },
      "text/plain": [
       "Taxa in D015497:   0%|          | 0/169 [00:00<?, ?it/s]"
      ]
     },
     "metadata": {},
     "output_type": "display_data"
    },
    {
     "data": {
      "application/vnd.jupyter.widget-view+json": {
       "model_id": "a32d99f363f1433e8f232bc6e2aaa340",
       "version_major": 2,
       "version_minor": 0
      },
      "text/plain": [
       "Taxa in D043183:   0%|          | 0/432 [00:00<?, ?it/s]"
      ]
     },
     "metadata": {},
     "output_type": "display_data"
    },
    {
     "data": {
      "application/vnd.jupyter.widget-view+json": {
       "model_id": "b1551b9b0d104ec4a1295dbc8d9d829c",
       "version_major": 2,
       "version_minor": 0
      },
      "text/plain": [
       "Taxa in D007230:   0%|          | 0/122 [00:00<?, ?it/s]"
      ]
     },
     "metadata": {},
     "output_type": "display_data"
    },
    {
     "data": {
      "application/vnd.jupyter.widget-view+json": {
       "model_id": "5eb4ce35ad474bf8a2785d80356a9b4e",
       "version_major": 2,
       "version_minor": 0
      },
      "text/plain": [
       "Taxa in D065626:   0%|          | 0/173 [00:00<?, ?it/s]"
      ]
     },
     "metadata": {},
     "output_type": "display_data"
    },
    {
     "data": {
      "application/vnd.jupyter.widget-view+json": {
       "model_id": "32b54b61774d4410a46ad30ddafc017e",
       "version_major": 2,
       "version_minor": 0
      },
      "text/plain": [
       "Taxa in D001321:   0%|          | 0/183 [00:00<?, ?it/s]"
      ]
     },
     "metadata": {},
     "output_type": "display_data"
    },
    {
     "data": {
      "application/vnd.jupyter.widget-view+json": {
       "model_id": "8952945171a8418db7db670e319acdad",
       "version_major": 2,
       "version_minor": 0
      },
      "text/plain": [
       "Taxa in D012778:   0%|          | 0/162 [00:00<?, ?it/s]"
      ]
     },
     "metadata": {},
     "output_type": "display_data"
    },
    {
     "data": {
      "application/vnd.jupyter.widget-view+json": {
       "model_id": "7aea75618c1d47ce862679342a64a1a0",
       "version_major": 2,
       "version_minor": 0
      },
      "text/plain": [
       "Taxa in D003922:   0%|          | 0/105 [00:00<?, ?it/s]"
      ]
     },
     "metadata": {},
     "output_type": "display_data"
    },
    {
     "data": {
      "application/vnd.jupyter.widget-view+json": {
       "model_id": "14003667980f489385ef5458ddd93b66",
       "version_major": 2,
       "version_minor": 0
      },
      "text/plain": [
       "Taxa in D003015:   0%|          | 0/444 [00:00<?, ?it/s]"
      ]
     },
     "metadata": {},
     "output_type": "display_data"
    },
    {
     "data": {
      "application/vnd.jupyter.widget-view+json": {
       "model_id": "58077b675dbd4c869af818a668e04c64",
       "version_major": 2,
       "version_minor": 0
      },
      "text/plain": [
       "Taxa in D006678:   0%|          | 0/105 [00:00<?, ?it/s]"
      ]
     },
     "metadata": {},
     "output_type": "display_data"
    },
    {
     "data": {
      "application/vnd.jupyter.widget-view+json": {
       "model_id": "fae0654726bc4871820af49b8813f241",
       "version_major": 2,
       "version_minor": 0
      },
      "text/plain": [
       "Taxa in D014607:   0%|          | 0/102 [00:00<?, ?it/s]"
      ]
     },
     "metadata": {},
     "output_type": "display_data"
    },
    {
     "data": {
      "application/vnd.jupyter.widget-view+json": {
       "model_id": "035530a886434cfdaf88557e8a220c3c",
       "version_major": 2,
       "version_minor": 0
      },
      "text/plain": [
       "Taxa in D013274:   0%|          | 0/235 [00:00<?, ?it/s]"
      ]
     },
     "metadata": {},
     "output_type": "display_data"
    },
    {
     "data": {
      "application/vnd.jupyter.widget-view+json": {
       "model_id": "fbc95c20e12d406ea4de420a1c8bba84",
       "version_major": 2,
       "version_minor": 0
      },
      "text/plain": [
       "Taxa in D011565:   0%|          | 0/60 [00:00<?, ?it/s]"
      ]
     },
     "metadata": {},
     "output_type": "display_data"
    },
    {
     "data": {
      "application/vnd.jupyter.widget-view+json": {
       "model_id": "06cfb84af9b547c28e1ed87a44adc16b",
       "version_major": 2,
       "version_minor": 0
      },
      "text/plain": [
       "Taxa in D050177:   0%|          | 0/77 [00:00<?, ?it/s]"
      ]
     },
     "metadata": {},
     "output_type": "display_data"
    },
    {
     "data": {
      "application/vnd.jupyter.widget-view+json": {
       "model_id": "03aa8e6b456d40d099a4a10b74ace9b7",
       "version_major": 2,
       "version_minor": 0
      },
      "text/plain": [
       "Taxa in D009765:   0%|          | 0/221 [00:00<?, ?it/s]"
      ]
     },
     "metadata": {},
     "output_type": "display_data"
    },
    {
     "data": {
      "application/vnd.jupyter.widget-view+json": {
       "model_id": "f32b718cc071498287391a60876f74aa",
       "version_major": 2,
       "version_minor": 0
      },
      "text/plain": [
       "Taxa in D006515:   0%|          | 0/92 [00:00<?, ?it/s]"
      ]
     },
     "metadata": {},
     "output_type": "display_data"
    },
    {
     "data": {
      "application/vnd.jupyter.widget-view+json": {
       "model_id": "ee37e44cbf26442c83a664249b46921d",
       "version_major": 2,
       "version_minor": 0
      },
      "text/plain": [
       "Taxa in D003920:   0%|          | 0/232 [00:00<?, ?it/s]"
      ]
     },
     "metadata": {},
     "output_type": "display_data"
    },
    {
     "data": {
      "application/vnd.jupyter.widget-view+json": {
       "model_id": "8da4128fafb24ce8930e76b364ea4513",
       "version_major": 2,
       "version_minor": 0
      },
      "text/plain": [
       "Taxa in D024821:   0%|          | 0/87 [00:00<?, ?it/s]"
      ]
     },
     "metadata": {},
     "output_type": "display_data"
    },
    {
     "data": {
      "application/vnd.jupyter.widget-view+json": {
       "model_id": "ded9b5f5d2a8462d84e9359e142c956a",
       "version_major": 2,
       "version_minor": 0
      },
      "text/plain": [
       "Taxa in D016360:   0%|          | 0/131 [00:00<?, ?it/s]"
      ]
     },
     "metadata": {},
     "output_type": "display_data"
    },
    {
     "data": {
      "application/vnd.jupyter.widget-view+json": {
       "model_id": "8a47808542e34bb5b68e02a5e7d0956a",
       "version_major": 2,
       "version_minor": 0
      },
      "text/plain": [
       "Taxa in D000855:   0%|          | 0/81 [00:00<?, ?it/s]"
      ]
     },
     "metadata": {},
     "output_type": "display_data"
    },
    {
     "data": {
      "application/vnd.jupyter.widget-view+json": {
       "model_id": "f40a44004b2a49a2a3912c67fd458ece",
       "version_major": 2,
       "version_minor": 0
      },
      "text/plain": [
       "Taxa in D007676:   0%|          | 0/110 [00:00<?, ?it/s]"
      ]
     },
     "metadata": {},
     "output_type": "display_data"
    },
    {
     "data": {
      "application/vnd.jupyter.widget-view+json": {
       "model_id": "8eeb3150d3ea463fa5aa93b7bb945dd4",
       "version_major": 2,
       "version_minor": 0
      },
      "text/plain": [
       "Taxa in D008545:   0%|          | 0/182 [00:00<?, ?it/s]"
      ]
     },
     "metadata": {},
     "output_type": "display_data"
    },
    {
     "data": {
      "application/vnd.jupyter.widget-view+json": {
       "model_id": "d8e3590c881c43cea5af9312b4b3876d",
       "version_major": 2,
       "version_minor": 0
      },
      "text/plain": [
       "Taxa in D003108:   0%|          | 0/218 [00:00<?, ?it/s]"
      ]
     },
     "metadata": {},
     "output_type": "display_data"
    },
    {
     "data": {
      "application/vnd.jupyter.widget-view+json": {
       "model_id": "00edb3110a464a38b965d90034721e35",
       "version_major": 2,
       "version_minor": 0
      },
      "text/plain": [
       "Taxa in D003248:   0%|          | 0/380 [00:00<?, ?it/s]"
      ]
     },
     "metadata": {},
     "output_type": "display_data"
    },
    {
     "data": {
      "application/vnd.jupyter.widget-view+json": {
       "model_id": "c676e7c512b8469eb92553248e0df05f",
       "version_major": 2,
       "version_minor": 0
      },
      "text/plain": [
       "Taxa in D003550:   0%|          | 0/126 [00:00<?, ?it/s]"
      ]
     },
     "metadata": {},
     "output_type": "display_data"
    },
    {
     "data": {
      "application/vnd.jupyter.widget-view+json": {
       "model_id": "99b5ba3334aa4c1fb775f60a53eb07a3",
       "version_major": 2,
       "version_minor": 0
      },
      "text/plain": [
       "Taxa in D015179:   0%|          | 0/571 [00:00<?, ?it/s]"
      ]
     },
     "metadata": {},
     "output_type": "display_data"
    },
    {
     "data": {
      "application/vnd.jupyter.widget-view+json": {
       "model_id": "1cb6711a053f472f906d559ba3d37497",
       "version_major": 2,
       "version_minor": 0
      },
      "text/plain": [
       "Taxa in D000236:   0%|          | 0/213 [00:00<?, ?it/s]"
      ]
     },
     "metadata": {},
     "output_type": "display_data"
    },
    {
     "data": {
      "application/vnd.jupyter.widget-view+json": {
       "model_id": "055291648c5d499ab446fcf147d9147e",
       "version_major": 2,
       "version_minor": 0
      },
      "text/plain": [
       "Taxa in D019337:   0%|          | 0/264 [00:00<?, ?it/s]"
      ]
     },
     "metadata": {},
     "output_type": "display_data"
    },
    {
     "data": {
      "application/vnd.jupyter.widget-view+json": {
       "model_id": "e89d801db25c42e2adc5a41997a13dc5",
       "version_major": 2,
       "version_minor": 0
      },
      "text/plain": [
       "Taxa in D016918:   0%|          | 0/75 [00:00<?, ?it/s]"
      ]
     },
     "metadata": {},
     "output_type": "display_data"
    },
    {
     "data": {
      "application/vnd.jupyter.widget-view+json": {
       "model_id": "e81690e1646145e0889d28ab1d371a40",
       "version_major": 2,
       "version_minor": 0
      },
      "text/plain": [
       "Taxa in D000067011:   0%|          | 0/97 [00:00<?, ?it/s]"
      ]
     },
     "metadata": {},
     "output_type": "display_data"
    },
    {
     "data": {
      "application/vnd.jupyter.widget-view+json": {
       "model_id": "cda029df6032480ba596f18961c16a3d",
       "version_major": 2,
       "version_minor": 0
      },
      "text/plain": [
       "Taxa in D001249:   0%|          | 0/120 [00:00<?, ?it/s]"
      ]
     },
     "metadata": {},
     "output_type": "display_data"
    },
    {
     "data": {
      "application/vnd.jupyter.widget-view+json": {
       "model_id": "fa4fa379f0b249b488b972fce6104840",
       "version_major": 2,
       "version_minor": 0
      },
      "text/plain": [
       "Taxa in D054198:   0%|          | 0/230 [00:00<?, ?it/s]"
      ]
     },
     "metadata": {},
     "output_type": "display_data"
    },
    {
     "data": {
      "application/vnd.jupyter.widget-view+json": {
       "model_id": "10b4285e23554f1c95046b03cfff4cbc",
       "version_major": 2,
       "version_minor": 0
      },
      "text/plain": [
       "Taxa in D001714:   0%|          | 0/310 [00:00<?, ?it/s]"
      ]
     },
     "metadata": {},
     "output_type": "display_data"
    },
    {
     "data": {
      "application/vnd.jupyter.widget-view+json": {
       "model_id": "76042a5edea24f638db96f934ff7f438",
       "version_major": 2,
       "version_minor": 0
      },
      "text/plain": [
       "Taxa in D001172:   0%|          | 0/106 [00:00<?, ?it/s]"
      ]
     },
     "metadata": {},
     "output_type": "display_data"
    },
    {
     "data": {
      "application/vnd.jupyter.widget-view+json": {
       "model_id": "db837e6ea56648f6920523c66efa9df2",
       "version_major": 2,
       "version_minor": 0
      },
      "text/plain": [
       "Taxa in D001943:   0%|          | 0/125 [00:00<?, ?it/s]"
      ]
     },
     "metadata": {},
     "output_type": "display_data"
    },
    {
     "data": {
      "application/vnd.jupyter.widget-view+json": {
       "model_id": "87a39296f4574d7cbc1531e4e38e4b90",
       "version_major": 2,
       "version_minor": 0
      },
      "text/plain": [
       "Taxa in D013167:   0%|          | 0/105 [00:00<?, ?it/s]"
      ]
     },
     "metadata": {},
     "output_type": "display_data"
    },
    {
     "data": {
      "application/vnd.jupyter.widget-view+json": {
       "model_id": "4b962491258540bf9f869b448bfe4a67",
       "version_major": 2,
       "version_minor": 0
      },
      "text/plain": [
       "Taxa in D008103:   0%|          | 0/192 [00:00<?, ?it/s]"
      ]
     },
     "metadata": {},
     "output_type": "display_data"
    },
    {
     "data": {
      "application/vnd.jupyter.widget-view+json": {
       "model_id": "05d0f1fa23b6413c8163c8b043b3271d",
       "version_major": 2,
       "version_minor": 0
      },
      "text/plain": [
       "Taxa in D001327:   0%|          | 0/341 [00:00<?, ?it/s]"
      ]
     },
     "metadata": {},
     "output_type": "display_data"
    },
    {
     "data": {
      "application/vnd.jupyter.widget-view+json": {
       "model_id": "71888f4d98a848e286ba6de1460d90ff",
       "version_major": 2,
       "version_minor": 0
      },
      "text/plain": [
       "Taxa in D008107:   0%|          | 0/169 [00:00<?, ?it/s]"
      ]
     },
     "metadata": {},
     "output_type": "display_data"
    },
    {
     "data": {
      "application/vnd.jupyter.widget-view+json": {
       "model_id": "58e2d5f01a894092a4dfd3d803cfe5b8",
       "version_major": 2,
       "version_minor": 0
      },
      "text/plain": [
       "Taxa in D013959:   0%|          | 0/352 [00:00<?, ?it/s]"
      ]
     },
     "metadata": {},
     "output_type": "display_data"
    },
    {
     "data": {
      "application/vnd.jupyter.widget-view+json": {
       "model_id": "d25fef9d15974ab3bd8a22bbdfbd81a6",
       "version_major": 2,
       "version_minor": 0
      },
      "text/plain": [
       "Taxa in D007410:   0%|          | 0/293 [00:00<?, ?it/s]"
      ]
     },
     "metadata": {},
     "output_type": "display_data"
    },
    {
     "data": {
      "application/vnd.jupyter.widget-view+json": {
       "model_id": "8f5ffdafabd84b64aeec57bbd55c382a",
       "version_major": 2,
       "version_minor": 0
      },
      "text/plain": [
       "Taxa in D008881:   0%|          | 0/364 [00:00<?, ?it/s]"
      ]
     },
     "metadata": {},
     "output_type": "display_data"
    },
    {
     "data": {
      "application/vnd.jupyter.widget-view+json": {
       "model_id": "dfbab8cc315543fa9e6128453d9b3cd5",
       "version_major": 2,
       "version_minor": 0
      },
      "text/plain": [
       "Taxa in D007674:   0%|          | 0/156 [00:00<?, ?it/s]"
      ]
     },
     "metadata": {},
     "output_type": "display_data"
    },
    {
     "data": {
      "application/vnd.jupyter.widget-view+json": {
       "model_id": "2604e9671c9c44169b16adfd528755ff",
       "version_major": 2,
       "version_minor": 0
      },
      "text/plain": [
       "Taxa in D008171:   0%|          | 0/340 [00:00<?, ?it/s]"
      ]
     },
     "metadata": {},
     "output_type": "display_data"
    },
    {
     "data": {
      "application/vnd.jupyter.widget-view+json": {
       "model_id": "b8a396981b114c11a59605513f4af906",
       "version_major": 2,
       "version_minor": 0
      },
      "text/plain": [
       "Taxa in D002446:   0%|          | 0/144 [00:00<?, ?it/s]"
      ]
     },
     "metadata": {},
     "output_type": "display_data"
    },
    {
     "data": {
      "application/vnd.jupyter.widget-view+json": {
       "model_id": "bd50389ba701456d815fc9b190c16c8e",
       "version_major": 2,
       "version_minor": 0
      },
      "text/plain": [
       "Taxa in D003863:   0%|          | 0/278 [00:00<?, ?it/s]"
      ]
     },
     "metadata": {},
     "output_type": "display_data"
    },
    {
     "data": {
      "application/vnd.jupyter.widget-view+json": {
       "model_id": "5b59781b909e4f5b99b51cf75daae1cf",
       "version_major": 2,
       "version_minor": 0
      },
      "text/plain": [
       "Taxa in D012559:   0%|          | 0/275 [00:00<?, ?it/s]"
      ]
     },
     "metadata": {},
     "output_type": "display_data"
    },
    {
     "data": {
      "application/vnd.jupyter.widget-view+json": {
       "model_id": "913df97005d04330b1528d6b016fd524",
       "version_major": 2,
       "version_minor": 0
      },
      "text/plain": [
       "Taxa in D000067877:   0%|          | 0/242 [00:00<?, ?it/s]"
      ]
     },
     "metadata": {},
     "output_type": "display_data"
    },
    {
     "data": {
      "application/vnd.jupyter.widget-view+json": {
       "model_id": "8cd6641feb1b4bb28853359525c5aead",
       "version_major": 2,
       "version_minor": 0
      },
      "text/plain": [
       "Taxa in D004827:   0%|          | 0/122 [00:00<?, ?it/s]"
      ]
     },
     "metadata": {},
     "output_type": "display_data"
    },
    {
     "data": {
      "application/vnd.jupyter.widget-view+json": {
       "model_id": "f2f27474ca0a4154bb5247f53fb62dd9",
       "version_major": 2,
       "version_minor": 0
      },
      "text/plain": [
       "Taxa in D001289:   0%|          | 0/238 [00:00<?, ?it/s]"
      ]
     },
     "metadata": {},
     "output_type": "display_data"
    },
    {
     "data": {
      "application/vnd.jupyter.widget-view+json": {
       "model_id": "c650a557b8254386ad6ecc6b6aa813a5",
       "version_major": 2,
       "version_minor": 0
      },
      "text/plain": [
       "Taxa in D002318:   0%|          | 0/195 [00:00<?, ?it/s]"
      ]
     },
     "metadata": {},
     "output_type": "display_data"
    },
    {
     "data": {
      "application/vnd.jupyter.widget-view+json": {
       "model_id": "e27e3fceaa7b45658d950890fb064eb6",
       "version_major": 2,
       "version_minor": 0
      },
      "text/plain": [
       "Taxa in D014376:   0%|          | 0/104 [00:00<?, ?it/s]"
      ]
     },
     "metadata": {},
     "output_type": "display_data"
    },
    {
     "data": {
      "application/vnd.jupyter.widget-view+json": {
       "model_id": "7f7d9add8d15431b898f3716d99235dd",
       "version_major": 2,
       "version_minor": 0
      },
      "text/plain": [
       "Taxa in D012400:   0%|          | 0/117 [00:00<?, ?it/s]"
      ]
     },
     "metadata": {},
     "output_type": "display_data"
    },
    {
     "data": {
      "application/vnd.jupyter.widget-view+json": {
       "model_id": "2804fb23d58a4dedace1700a18f3a540",
       "version_major": 2,
       "version_minor": 0
      },
      "text/plain": [
       "Taxa in D005764:   0%|          | 0/185 [00:00<?, ?it/s]"
      ]
     },
     "metadata": {},
     "output_type": "display_data"
    },
    {
     "data": {
      "application/vnd.jupyter.widget-view+json": {
       "model_id": "ec87a92dca2145e7af7eb3f5ef191873",
       "version_major": 2,
       "version_minor": 0
      },
      "text/plain": [
       "Taxa in D037841:   0%|          | 0/171 [00:00<?, ?it/s]"
      ]
     },
     "metadata": {},
     "output_type": "display_data"
    },
    {
     "data": {
      "application/vnd.jupyter.widget-view+json": {
       "model_id": "8a5effe426194dafa9394f2c40a6cd4c",
       "version_major": 2,
       "version_minor": 0
      },
      "text/plain": [
       "Taxa in D016640:   0%|          | 0/143 [00:00<?, ?it/s]"
      ]
     },
     "metadata": {},
     "output_type": "display_data"
    },
    {
     "data": {
      "application/vnd.jupyter.widget-view+json": {
       "model_id": "8414503fcc53433388b2ce0d5ad44351",
       "version_major": 2,
       "version_minor": 0
      },
      "text/plain": [
       "Taxa in D006111:   0%|          | 0/67 [00:00<?, ?it/s]"
      ]
     },
     "metadata": {},
     "output_type": "display_data"
    },
    {
     "data": {
      "application/vnd.jupyter.widget-view+json": {
       "model_id": "76707e1b00084fbe8752025421ec3c17",
       "version_major": 2,
       "version_minor": 0
      },
      "text/plain": [
       "Taxa in D050031:   0%|          | 0/83 [00:00<?, ?it/s]"
      ]
     },
     "metadata": {},
     "output_type": "display_data"
    },
    {
     "data": {
      "application/vnd.jupyter.widget-view+json": {
       "model_id": "7f5b240925a2461790fd9792a3b085b2",
       "version_major": 2,
       "version_minor": 0
      },
      "text/plain": [
       "Taxa in D013964:   0%|          | 0/91 [00:00<?, ?it/s]"
      ]
     },
     "metadata": {},
     "output_type": "display_data"
    },
    {
     "data": {
      "image/png": "[encoded data removed]",
      "text/plain": [
       "<Figure size 2200x1000 with 1 Axes>"
      ]
     },
     "metadata": {},
     "output_type": "display_data"
    },
    {
     "name": "stdout",
     "output_type": "stream",
     "text": [
      "✅ PERMUTATION TESTING COMPLETE\n",
      "• Total diseases tested: 65\n",
      "• Total (disease, taxon) pairs tested: 13159\n",
      "• Total significant pairs (FDR < 0.05): 5697\n",
      "• Shape of df_species_significant: (819344, 4)\n",
      "• Unique significant taxa: 1149\n",
      "• Diseases with significant taxa: 65\n",
      "📁 Saved significant species-level taxa to 'significant_species_taxa.txt'\n"
     ]
    },
    {
     "data": {
      "application/vnd.microsoft.datawrangler.viewer.v0+json": {
       "columns": [
        {
         "name": "disease",
         "rawType": "object",
         "type": "string"
        },
        {
         "name": "n_taxa_tested",
         "rawType": "int64",
         "type": "integer"
        },
        {
         "name": "n_significant",
         "rawType": "int64",
         "type": "integer"
        }
       ],
       "ref": "b60f8b98-c00c-43d2-add9-17b1cb06b70a",
       "rows": [
        [
         "D015179",
         "571",
         "287"
        ],
        [
         "D003015",
         "444",
         "244"
        ],
        [
         "D003093",
         "434",
         "235"
        ],
        [
         "D043183",
         "432",
         "210"
        ],
        [
         "D015212",
         "389",
         "144"
        ],
        [
         "D003248",
         "380",
         "191"
        ],
        [
         "D008881",
         "364",
         "154"
        ],
        [
         "D003967",
         "356",
         "129"
        ],
        [
         "D013959",
         "352",
         "185"
        ],
        [
         "D001327",
         "341",
         "170"
        ],
        [
         "D008171",
         "340",
         "162"
        ],
        [
         "D003424",
         "336",
         "141"
        ],
        [
         "D001714",
         "310",
         "129"
        ],
        [
         "D007410",
         "293",
         "130"
        ],
        [
         "D003924",
         "286",
         "114"
        ],
        [
         "D003863",
         "278",
         "115"
        ],
        [
         "D012559",
         "275",
         "112"
        ],
        [
         "D019337",
         "264",
         "172"
        ],
        [
         "D000067877",
         "242",
         "47"
        ],
        [
         "D001289",
         "238",
         "94"
        ],
        [
         "D013274",
         "235",
         "212"
        ],
        [
         "D003920",
         "232",
         "74"
        ],
        [
         "D054198",
         "230",
         "141"
        ],
        [
         "D009765",
         "221",
         "129"
        ],
        [
         "D003108",
         "218",
         "108"
        ],
        [
         "D000236",
         "213",
         "83"
        ],
        [
         "D002318",
         "195",
         "64"
        ],
        [
         "D008103",
         "192",
         "94"
        ],
        [
         "D005764",
         "185",
         "80"
        ],
        [
         "D001321",
         "183",
         "60"
        ],
        [
         "D008545",
         "182",
         "58"
        ],
        [
         "D065626",
         "173",
         "49"
        ],
        [
         "D037841",
         "171",
         "61"
        ],
        [
         "D015497",
         "169",
         "45"
        ],
        [
         "D008107",
         "169",
         "37"
        ],
        [
         "D012778",
         "162",
         "71"
        ],
        [
         "D007674",
         "156",
         "40"
        ],
        [
         "D007234",
         "148",
         "96"
        ],
        [
         "D002446",
         "144",
         "35"
        ],
        [
         "D016640",
         "143",
         "34"
        ],
        [
         "D016360",
         "131",
         "53"
        ],
        [
         "D003550",
         "126",
         "40"
        ],
        [
         "D001943",
         "125",
         "51"
        ],
        [
         "D004827",
         "122",
         "18"
        ],
        [
         "D007230",
         "122",
         "74"
        ],
        [
         "D001249",
         "120",
         "55"
        ],
        [
         "D012400",
         "117",
         "31"
        ],
        [
         "D007676",
         "110",
         "38"
        ],
        [
         "D001172",
         "106",
         "27"
        ],
        [
         "D003922",
         "105",
         "18"
        ]
       ],
       "shape": {
        "columns": 2,
        "rows": 65
       }
      },
      "text/html": [
       "<div>\n",
       "<style scoped>\n",
       "    .dataframe tbody tr th:only-of-type {\n",
       "        vertical-align: middle;\n",
       "    }\n",
       "\n",
       "    .dataframe tbody tr th {\n",
       "        vertical-align: top;\n",
       "    }\n",
       "\n",
       "    .dataframe thead th {\n",
       "        text-align: right;\n",
       "    }\n",
       "</style>\n",
       "<table border=\"1\" class=\"dataframe\">\n",
       "  <thead>\n",
       "    <tr style=\"text-align: right;\">\n",
       "      <th></th>\n",
       "      <th>n_taxa_tested</th>\n",
       "      <th>n_significant</th>\n",
       "    </tr>\n",
       "    <tr>\n",
       "      <th>disease</th>\n",
       "      <th></th>\n",
       "      <th></th>\n",
       "    </tr>\n",
       "  </thead>\n",
       "  <tbody>\n",
       "    <tr>\n",
       "      <th>D015179</th>\n",
       "      <td>571</td>\n",
       "      <td>287</td>\n",
       "    </tr>\n",
       "    <tr>\n",
       "      <th>D003015</th>\n",
       "      <td>444</td>\n",
       "      <td>244</td>\n",
       "    </tr>\n",
       "    <tr>\n",
       "      <th>D003093</th>\n",
       "      <td>434</td>\n",
       "      <td>235</td>\n",
       "    </tr>\n",
       "    <tr>\n",
       "      <th>D043183</th>\n",
       "      <td>432</td>\n",
       "      <td>210</td>\n",
       "    </tr>\n",
       "    <tr>\n",
       "      <th>D015212</th>\n",
       "      <td>389</td>\n",
       "      <td>144</td>\n",
       "    </tr>\n",
       "    <tr>\n",
       "      <th>...</th>\n",
       "      <td>...</td>\n",
       "      <td>...</td>\n",
       "    </tr>\n",
       "    <tr>\n",
       "      <th>D000855</th>\n",
       "      <td>81</td>\n",
       "      <td>55</td>\n",
       "    </tr>\n",
       "    <tr>\n",
       "      <th>D050177</th>\n",
       "      <td>77</td>\n",
       "      <td>21</td>\n",
       "    </tr>\n",
       "    <tr>\n",
       "      <th>D016918</th>\n",
       "      <td>75</td>\n",
       "      <td>15</td>\n",
       "    </tr>\n",
       "    <tr>\n",
       "      <th>D006111</th>\n",
       "      <td>67</td>\n",
       "      <td>43</td>\n",
       "    </tr>\n",
       "    <tr>\n",
       "      <th>D011565</th>\n",
       "      <td>60</td>\n",
       "      <td>23</td>\n",
       "    </tr>\n",
       "  </tbody>\n",
       "</table>\n",
       "<p>65 rows × 2 columns</p>\n",
       "</div>"
      ],
      "text/plain": [
       "         n_taxa_tested  n_significant\n",
       "disease                              \n",
       "D015179            571            287\n",
       "D003015            444            244\n",
       "D003093            434            235\n",
       "D043183            432            210\n",
       "D015212            389            144\n",
       "...                ...            ...\n",
       "D000855             81             55\n",
       "D050177             77             21\n",
       "D016918             75             15\n",
       "D006111             67             43\n",
       "D011565             60             23\n",
       "\n",
       "[65 rows x 2 columns]"
      ]
     },
     "metadata": {},
     "output_type": "display_data"
    },
    {
     "data": {
      "application/vnd.microsoft.datawrangler.viewer.v0+json": {
       "columns": [
        {
         "name": "index",
         "rawType": "int64",
         "type": "integer"
        },
        {
         "name": "taxon",
         "rawType": "int64",
         "type": "integer"
        },
        {
         "name": "disease",
         "rawType": "object",
         "type": "string"
        },
        {
         "name": "p_value",
         "rawType": "float64",
         "type": "float"
        },
        {
         "name": "mean_healthy",
         "rawType": "float64",
         "type": "float"
        },
        {
         "name": "mean_disease",
         "rawType": "float64",
         "type": "float"
        },
        {
         "name": "diff_mean",
         "rawType": "float64",
         "type": "float"
        },
        {
         "name": "p_adj",
         "rawType": "float64",
         "type": "float"
        }
       ],
       "ref": "a54ccc53-1575-44ee-ac51-45caca21867f",
       "rows": [
        [
         "3115",
         "308994",
         "D001321",
         "0.000999000999000999",
         "0.07993258944776119",
         "1.3391183724626865",
         "1.2591857830149253",
         "0.003382875487867768"
        ],
        [
         "9072",
         "39488",
         "D008107",
         "0.000999000999000999",
         "0.3879647410126582",
         "0.04681356240506329",
         "-0.3411511786075949",
         "0.003382875487867768"
        ],
        [
         "3139",
         "1613",
         "D012778",
         "0.000999000999000999",
         "0.0024646110806451614",
         "0.9956419725806452",
         "0.9931773615000001",
         "0.003382875487867768"
        ],
        [
         "3138",
         "1596",
         "D012778",
         "0.000999000999000999",
         "0.0025985382096774196",
         "1.4282709522419355",
         "1.425672414032258",
         "0.003382875487867768"
        ],
        [
         "3133",
         "562",
         "D012778",
         "0.000999000999000999",
         "0.45068841580645164",
         "3.3593349645161292",
         "2.9086465487096778",
         "0.003382875487867768"
        ],
        [
         "3126",
         "28199",
         "D001321",
         "0.000999000999000999",
         "0.0",
         "0.017119330335820894",
         "0.017119330335820894",
         "0.003382875487867768"
        ],
        [
         "3125",
         "1251",
         "D001321",
         "0.000999000999000999",
         "0.0",
         "0.008343113902985077",
         "0.008343113902985077",
         "0.003382875487867768"
        ],
        [
         "3119",
         "234908",
         "D001321",
         "0.000999000999000999",
         "0.0023567773880597016",
         "0.06455920052238805",
         "0.06220242313432835",
         "0.003382875487867768"
        ],
        [
         "3116",
         "745368",
         "D001321",
         "0.000999000999000999",
         "0.004444040223880598",
         "0.04959215075373135",
         "0.04514811052985075",
         "0.003382875487867768"
        ],
        [
         "9059",
         "360807",
         "D008107",
         "0.000999000999000999",
         "0.38607983063291146",
         "0.05215367088607595",
         "-0.3339261597468355",
         "0.003382875487867768"
        ],
        [
         "3112",
         "89014",
         "D001321",
         "0.000999000999000999",
         "0.02676103656716418",
         "0.17503129984328356",
         "0.14827026327611936",
         "0.003382875487867768"
        ],
        [
         "3111",
         "78345",
         "D001321",
         "0.000999000999000999",
         "0.3645398317910448",
         "1.715822902425373",
         "1.3512830706343282",
         "0.003382875487867768"
        ],
        [
         "3110",
         "28447",
         "D001321",
         "0.000999000999000999",
         "0.008819205052238805",
         "0.25211335323880596",
         "0.24329414818656717",
         "0.003382875487867768"
        ],
        [
         "9118",
         "52787",
         "D008107",
         "0.000999000999000999",
         "0.009468997215189874",
         "0.056055983797468345",
         "0.04658698658227847",
         "0.003382875487867768"
        ],
        [
         "9116",
         "44749",
         "D008107",
         "0.000999000999000999",
         "0.08173246278481014",
         "0.4776868451898734",
         "0.3959543824050633",
         "0.003382875487867768"
        ],
        [
         "9104",
         "33038",
         "D008107",
         "0.000999000999000999",
         "0.7176453491139241",
         "0.05254595670886075",
         "-0.6650993924050633",
         "0.003382875487867768"
        ],
        [
         "9101",
         "28901",
         "D008107",
         "0.000999000999000999",
         "0.0044995399620253165",
         "0.27438164962025313",
         "0.26988210965822784",
         "0.003382875487867768"
        ],
        [
         "7112",
         "37734",
         "D019337",
         "0.000999000999000999",
         "0.02266570459202454",
         "0.26488316757055214",
         "0.2422174629785276",
         "0.003382875487867768"
        ],
        [
         "7122",
         "54006",
         "D019337",
         "0.000999000999000999",
         "0.02998013453067485",
         "0.7704739443834356",
         "0.7404938098527608",
         "0.003382875487867768"
        ],
        [
         "7121",
         "53446",
         "D019337",
         "0.000999000999000999",
         "0.0017873664723926381",
         "2.1019191005122697",
         "2.100131734039877",
         "0.003382875487867768"
        ],
        [
         "7120",
         "51664",
         "D019337",
         "0.000999000999000999",
         "0.0",
         "0.17641977672392636",
         "0.17641977672392636",
         "0.003382875487867768"
        ],
        [
         "7118",
         "40520",
         "D019337",
         "0.000999000999000999",
         "0.6395881091196318",
         "1.3374097228742332",
         "0.6978216137546014",
         "0.003382875487867768"
        ],
        [
         "7117",
         "40518",
         "D019337",
         "0.000999000999000999",
         "1.779431066411043",
         "0.46135400066564414",
         "-1.318077065745399",
         "0.003382875487867768"
        ],
        [
         "7116",
         "39492",
         "D019337",
         "0.000999000999000999",
         "0.3806514160184049",
         "0.12326890485889572",
         "-0.25738251115950916",
         "0.003382875487867768"
        ],
        [
         "7115",
         "39486",
         "D019337",
         "0.000999000999000999",
         "0.19871425895398773",
         "0.06875327830674847",
         "-0.12996098064723927",
         "0.003382875487867768"
        ],
        [
         "7113",
         "38304",
         "D019337",
         "0.000999000999000999",
         "0.011370600717791411",
         "3.922645259340491",
         "3.9112746586226996",
         "0.003382875487867768"
        ],
        [
         "9132",
         "626930",
         "D008107",
         "0.000999000999000999",
         "0.014380661139240506",
         "0.153635923164557",
         "0.1392552620253165",
         "0.003382875487867768"
        ],
        [
         "7111",
         "36874",
         "D019337",
         "0.000999000999000999",
         "0.002694122883435583",
         "0.28934806208282204",
         "0.2866539391993865",
         "0.003382875487867768"
        ],
        [
         "7110",
         "36740",
         "D019337",
         "0.000999000999000999",
         "3.231883435582822e-05",
         "0.19928312878220858",
         "0.19925080994785274",
         "0.003382875487867768"
        ],
        [
         "5150",
         "185294",
         "D016360",
         "0.000999000999000999",
         "0.0038044278048780496",
         "0.20266919124390245",
         "0.1988647634390244",
         "0.003382875487867768"
        ],
        [
         "5138",
         "52227",
         "D016360",
         "0.000999000999000999",
         "0.0",
         "0.15142986780487805",
         "0.15142986780487805",
         "0.003382875487867768"
        ],
        [
         "5131",
         "1985254",
         "D016360",
         "0.000999000999000999",
         "0.0",
         "0.4600451136585365",
         "0.4600451136585365",
         "0.003382875487867768"
        ],
        [
         "3147",
         "39777",
         "D012778",
         "0.000999000999000999",
         "0.031478315",
         "0.7769184279032258",
         "0.7454401129032259",
         "0.003382875487867768"
        ],
        [
         "3146",
         "33959",
         "D012778",
         "0.000999000999000999",
         "0.0025636125806451616",
         "0.8307185990322582",
         "0.828154986451613",
         "0.003382875487867768"
        ],
        [
         "5188",
         "853",
         "D000855",
         "0.000999000999000999",
         "2.2076557514179105",
         "0.791782119402985",
         "-1.4158736320149254",
         "0.003382875487867768"
        ],
        [
         "7089",
         "2051",
         "D019337",
         "0.000999000999000999",
         "0.0007221998834355828",
         "0.030946537177914114",
         "0.030224337294478532",
         "0.003382875487867768"
        ],
        [
         "7087",
         "1599",
         "D019337",
         "0.000999000999000999",
         "0.001812703009202454",
         "0.029770291978527607",
         "0.027957588969325153",
         "0.003382875487867768"
        ],
        [
         "7085",
         "1535",
         "D019337",
         "0.000999000999000999",
         "0.16773509718711654",
         "0.5791410465184049",
         "0.4114059493312884",
         "0.003382875487867768"
        ],
        [
         "7084",
         "1522",
         "D019337",
         "0.000999000999000999",
         "0.007808003782208589",
         "0.17131346066871167",
         "0.1635054568865031",
         "0.003382875487867768"
        ],
        [
         "7081",
         "1381",
         "D019337",
         "0.000999000999000999",
         "0.0",
         "0.03437992789263804",
         "0.03437992789263804",
         "0.003382875487867768"
        ],
        [
         "7079",
         "1356",
         "D019337",
         "0.000999000999000999",
         "0.0018181583773006136",
         "0.022474575138036808",
         "0.020656416760736193",
         "0.003382875487867768"
        ],
        [
         "7078",
         "1354",
         "D019337",
         "0.000999000999000999",
         "0.0011615192300613497",
         "1.7817472277791413",
         "1.78058570854908",
         "0.003382875487867768"
        ],
        [
         "5189",
         "1304",
         "D000855",
         "0.000999000999000999",
         "0.33021665335820893",
         "2.9114453052238805",
         "2.5812286518656715",
         "0.003382875487867768"
        ],
        [
         "7092",
         "28117",
         "D019337",
         "0.000999000999000999",
         "1.7304308565828221",
         "0.019223604604294477",
         "-1.7112072519785277",
         "0.003382875487867768"
        ],
        [
         "5186",
         "820",
         "D000855",
         "0.000999000999000999",
         "5.017054494850747",
         "1.7152985002985073",
         "-3.3017559945522397",
         "0.003382875487867768"
        ],
        [
         "5160",
         "157268",
         "D016360",
         "0.000999000999000999",
         "9.013073170731707e-05",
         "0.3353205292682927",
         "0.33523039853658537",
         "0.003382875487867768"
        ],
        [
         "7141",
         "437898",
         "D019337",
         "0.000999000999000999",
         "0.03353851141104294",
         "0.247120442898773",
         "0.21358193148773005",
         "0.003382875487867768"
        ],
        [
         "7139",
         "397865",
         "D019337",
         "0.000999000999000999",
         "0.4847782411625766",
         "0.053809161374233125",
         "-0.4309690797883435",
         "0.003382875487867768"
        ],
        [
         "7136",
         "357276",
         "D019337",
         "0.000999000999000999",
         "1.1371074567055215",
         "0.3336125010644172",
         "-0.8034949556411043",
         "0.003382875487867768"
        ],
        [
         "9165",
         "33069",
         "D008107",
         "0.000999000999000999",
         "0.00019430379746835443",
         "0.07029146569620251",
         "0.07009716189873416",
         "0.003382875487867768"
        ]
       ],
       "shape": {
        "columns": 7,
        "rows": 13159
       }
      },
      "text/html": [
       "<div>\n",
       "<style scoped>\n",
       "    .dataframe tbody tr th:only-of-type {\n",
       "        vertical-align: middle;\n",
       "    }\n",
       "\n",
       "    .dataframe tbody tr th {\n",
       "        vertical-align: top;\n",
       "    }\n",
       "\n",
       "    .dataframe thead th {\n",
       "        text-align: right;\n",
       "    }\n",
       "</style>\n",
       "<table border=\"1\" class=\"dataframe\">\n",
       "  <thead>\n",
       "    <tr style=\"text-align: right;\">\n",
       "      <th></th>\n",
       "      <th>taxon</th>\n",
       "      <th>disease</th>\n",
       "      <th>p_value</th>\n",
       "      <th>mean_healthy</th>\n",
       "      <th>mean_disease</th>\n",
       "      <th>diff_mean</th>\n",
       "      <th>p_adj</th>\n",
       "    </tr>\n",
       "  </thead>\n",
       "  <tbody>\n",
       "    <tr>\n",
       "      <th>3115</th>\n",
       "      <td>308994</td>\n",
       "      <td>D001321</td>\n",
       "      <td>0.000999</td>\n",
       "      <td>0.079933</td>\n",
       "      <td>1.339118</td>\n",
       "      <td>1.259186</td>\n",
       "      <td>0.003383</td>\n",
       "    </tr>\n",
       "    <tr>\n",
       "      <th>9072</th>\n",
       "      <td>39488</td>\n",
       "      <td>D008107</td>\n",
       "      <td>0.000999</td>\n",
       "      <td>0.387965</td>\n",
       "      <td>0.046814</td>\n",
       "      <td>-0.341151</td>\n",
       "      <td>0.003383</td>\n",
       "    </tr>\n",
       "    <tr>\n",
       "      <th>3139</th>\n",
       "      <td>1613</td>\n",
       "      <td>D012778</td>\n",
       "      <td>0.000999</td>\n",
       "      <td>0.002465</td>\n",
       "      <td>0.995642</td>\n",
       "      <td>0.993177</td>\n",
       "      <td>0.003383</td>\n",
       "    </tr>\n",
       "    <tr>\n",
       "      <th>3138</th>\n",
       "      <td>1596</td>\n",
       "      <td>D012778</td>\n",
       "      <td>0.000999</td>\n",
       "      <td>0.002599</td>\n",
       "      <td>1.428271</td>\n",
       "      <td>1.425672</td>\n",
       "      <td>0.003383</td>\n",
       "    </tr>\n",
       "    <tr>\n",
       "      <th>3133</th>\n",
       "      <td>562</td>\n",
       "      <td>D012778</td>\n",
       "      <td>0.000999</td>\n",
       "      <td>0.450688</td>\n",
       "      <td>3.359335</td>\n",
       "      <td>2.908647</td>\n",
       "      <td>0.003383</td>\n",
       "    </tr>\n",
       "    <tr>\n",
       "      <th>...</th>\n",
       "      <td>...</td>\n",
       "      <td>...</td>\n",
       "      <td>...</td>\n",
       "      <td>...</td>\n",
       "      <td>...</td>\n",
       "      <td>...</td>\n",
       "      <td>...</td>\n",
       "    </tr>\n",
       "    <tr>\n",
       "      <th>1759</th>\n",
       "      <td>437897</td>\n",
       "      <td>D015212</td>\n",
       "      <td>0.997003</td>\n",
       "      <td>0.019947</td>\n",
       "      <td>0.019856</td>\n",
       "      <td>-0.000091</td>\n",
       "      <td>1.000000</td>\n",
       "    </tr>\n",
       "    <tr>\n",
       "      <th>10769</th>\n",
       "      <td>72556</td>\n",
       "      <td>D002446</td>\n",
       "      <td>1.000000</td>\n",
       "      <td>0.000000</td>\n",
       "      <td>0.025500</td>\n",
       "      <td>0.025500</td>\n",
       "      <td>1.000000</td>\n",
       "    </tr>\n",
       "    <tr>\n",
       "      <th>47</th>\n",
       "      <td>292800</td>\n",
       "      <td>D003924</td>\n",
       "      <td>0.988012</td>\n",
       "      <td>0.235284</td>\n",
       "      <td>0.035901</td>\n",
       "      <td>-0.199383</td>\n",
       "      <td>1.000000</td>\n",
       "    </tr>\n",
       "    <tr>\n",
       "      <th>6154</th>\n",
       "      <td>215690</td>\n",
       "      <td>D003248</td>\n",
       "      <td>1.000000</td>\n",
       "      <td>0.000000</td>\n",
       "      <td>0.003466</td>\n",
       "      <td>0.003466</td>\n",
       "      <td>1.000000</td>\n",
       "    </tr>\n",
       "    <tr>\n",
       "      <th>10760</th>\n",
       "      <td>1283</td>\n",
       "      <td>D002446</td>\n",
       "      <td>1.000000</td>\n",
       "      <td>0.000000</td>\n",
       "      <td>1.291864</td>\n",
       "      <td>1.291864</td>\n",
       "      <td>1.000000</td>\n",
       "    </tr>\n",
       "  </tbody>\n",
       "</table>\n",
       "<p>13159 rows × 7 columns</p>\n",
       "</div>"
      ],
      "text/plain": [
       "        taxon  disease   p_value  mean_healthy  mean_disease  diff_mean  \\\n",
       "3115   308994  D001321  0.000999      0.079933      1.339118   1.259186   \n",
       "9072    39488  D008107  0.000999      0.387965      0.046814  -0.341151   \n",
       "3139     1613  D012778  0.000999      0.002465      0.995642   0.993177   \n",
       "3138     1596  D012778  0.000999      0.002599      1.428271   1.425672   \n",
       "3133      562  D012778  0.000999      0.450688      3.359335   2.908647   \n",
       "...       ...      ...       ...           ...           ...        ...   \n",
       "1759   437897  D015212  0.997003      0.019947      0.019856  -0.000091   \n",
       "10769   72556  D002446  1.000000      0.000000      0.025500   0.025500   \n",
       "47     292800  D003924  0.988012      0.235284      0.035901  -0.199383   \n",
       "6154   215690  D003248  1.000000      0.000000      0.003466   0.003466   \n",
       "10760    1283  D002446  1.000000      0.000000      1.291864   1.291864   \n",
       "\n",
       "          p_adj  \n",
       "3115   0.003383  \n",
       "9072   0.003383  \n",
       "3139   0.003383  \n",
       "3138   0.003383  \n",
       "3133   0.003383  \n",
       "...         ...  \n",
       "1759   1.000000  \n",
       "10769  1.000000  \n",
       "47     1.000000  \n",
       "6154   1.000000  \n",
       "10760  1.000000  \n",
       "\n",
       "[13159 rows x 7 columns]"
      ]
     },
     "metadata": {},
     "output_type": "display_data"
    }
   ],
   "source": [
    "import pandas as pd\n",
    "import numpy as np\n",
    "import matplotlib.pyplot as plt\n",
    "from statsmodels.stats.multitest import multipletests\n",
    "from tqdm.notebook import tqdm\n",
    "import seaborn as sns\n",
    "\n",
    "# ---------------------------\n",
    "# Configuration\n",
    "# ---------------------------\n",
    "HEALTHY_CODE = \"D006262\"\n",
    "N_PERMUTATIONS = 1000\n",
    "RANDOM_SEED = 42\n",
    "\n",
    "# ---------------------------\n",
    "# Permutation Test Function\n",
    "# ---------------------------\n",
    "def permutation_test(x, y, num_permutations=N_PERMUTATIONS, stat_func=np.mean):\n",
    "    observed = stat_func(y) - stat_func(x)\n",
    "    combined = np.concatenate([x, y])\n",
    "    count = 0\n",
    "    for _ in range(num_permutations):\n",
    "        np.random.shuffle(combined)\n",
    "        new_x = combined[:len(x)]\n",
    "        new_y = combined[len(x):]\n",
    "        perm_stat = stat_func(new_y) - stat_func(new_x)\n",
    "        if abs(perm_stat) >= abs(observed):\n",
    "            count += 1\n",
    "    return (count + 1) / (num_permutations + 1)\n",
    "\n",
    "# ---------------------------\n",
    "# Prepare Data\n",
    "# ---------------------------\n",
    "disease_codes_species = df_species_retained['disease'].unique()\n",
    "disease_codes_species = [d for d in disease_codes_species if d != HEALTHY_CODE]\n",
    "\n",
    "healthy_df_species = df_species_retained[df_species_retained['disease'] == HEALTHY_CODE]\n",
    "healthy_uids_species = healthy_df_species['loaded_uid'].unique()\n",
    "\n",
    "# ---------------------------\n",
    "# Run Permutation Testing\n",
    "# ---------------------------\n",
    "results_species = []\n",
    "rng = np.random.default_rng(RANDOM_SEED)\n",
    "\n",
    "for disease_code in tqdm(disease_codes_species, desc=\"Diseases\", position=0):\n",
    "    disease_df_species = df_species_retained[df_species_retained['disease'] == disease_code]\n",
    "    disease_uids_species = disease_df_species['loaded_uid'].unique()\n",
    "    disease_taxa_species = disease_df_species['ncbi_taxon_id'].unique()\n",
    "\n",
    "    for taxon in tqdm(disease_taxa_species, desc=f\"Taxa in {disease_code}\", position=1, leave=False):\n",
    "        disease_series = disease_df_species[disease_df_species['ncbi_taxon_id'] == taxon].set_index('loaded_uid')['relative_abundance']\n",
    "        healthy_series = healthy_df_species[healthy_df_species['ncbi_taxon_id'] == taxon].set_index('loaded_uid')['relative_abundance']\n",
    "\n",
    "        disease_vals = disease_series.reindex(disease_uids_species, fill_value=0).values\n",
    "        healthy_vals = healthy_series.reindex(healthy_uids_species, fill_value=0).values\n",
    "\n",
    "        # Skip if absent in both groups\n",
    "        if np.all(disease_vals == 0) and np.all(healthy_vals == 0):\n",
    "            continue\n",
    "\n",
    "        # Skip if present in healthy but completely absent in disease\n",
    "        if np.any(healthy_vals > 0) and np.all(disease_vals == 0):\n",
    "            continue\n",
    "\n",
    "        # Downsample to equal sample size\n",
    "        if len(healthy_vals) > len(disease_vals):\n",
    "            healthy_vals = rng.choice(healthy_vals, size=len(disease_vals), replace=False)\n",
    "        elif len(disease_vals) > len(healthy_vals):\n",
    "            disease_vals = rng.choice(disease_vals, size=len(healthy_vals), replace=False)\n",
    "\n",
    "        # Run permutation test\n",
    "        p_val = permutation_test(healthy_vals, disease_vals)\n",
    "\n",
    "        # Store result\n",
    "        results_species.append({\n",
    "            'taxon': taxon,\n",
    "            'disease': disease_code,\n",
    "            'p_value': p_val,\n",
    "            'mean_healthy': np.mean(healthy_vals),\n",
    "            'mean_disease': np.mean(disease_vals),\n",
    "            'diff_mean': np.mean(disease_vals) - np.mean(healthy_vals)\n",
    "        })\n",
    "\n",
    "# ---------------------------\n",
    "# Process Results\n",
    "# ---------------------------\n",
    "results_df_species = pd.DataFrame(results_species)\n",
    "\n",
    "if not results_df_species.empty:\n",
    "    # FDR correction\n",
    "    results_df_species['p_adj'] = multipletests(results_df_species['p_value'], method='fdr_bh')[1]\n",
    "\n",
    "    # Summary Table\n",
    "    summary_table_species = (\n",
    "        results_df_species\n",
    "        .groupby(\"disease\")\n",
    "        .agg(\n",
    "            n_taxa_tested=(\"taxon\", \"nunique\"),\n",
    "            n_significant=(\"p_adj\", lambda x: (x < 0.05).sum())\n",
    "        )\n",
    "        .sort_values(\"n_taxa_tested\", ascending=False)\n",
    "    )\n",
    "\n",
    "    # ---------------------------\n",
    "    # Plot with disease names\n",
    "    # ---------------------------\n",
    "    plot_df_species = summary_table_species.reset_index()\n",
    "    plot_df_species['disease_name'] = plot_df_species['disease'].map(disease_dict).fillna(plot_df_species['disease'])\n",
    "    plot_df_species = plot_df_species.sort_values(\"n_taxa_tested\", ascending=False)\n",
    "\n",
    "    plt.figure(figsize=(22, 10))\n",
    "    x = np.arange(len(plot_df_species))\n",
    "    width = 0.35\n",
    "\n",
    "    plt.bar(x - width/2, plot_df_species['n_taxa_tested'], width=width, label='Tested Taxa',\n",
    "            color='lightgrey', edgecolor='black', linewidth=0.8)\n",
    "    plt.bar(x + width/2, plot_df_species['n_significant'], width=width, label='Significant (FDR < 0.05)',\n",
    "            color='teal', edgecolor='black', linewidth=0.8)\n",
    "\n",
    "    plt.xticks(x, plot_df_species['disease_name'], rotation=90)\n",
    "    plt.ylabel(\"Number of Unique Taxa\")\n",
    "    plt.title(\"Differentially Abundant Taxa per Disease (species Level)\", fontweight='bold')\n",
    "    plt.legend()\n",
    "    plt.margins(x=0.01)  # Reduce side padding\n",
    "    plt.tight_layout()\n",
    "    plt.show()\n",
    "\n",
    "    # ---------------------------\n",
    "    # Create filtered sample-level data with only significant taxa\n",
    "    # ---------------------------\n",
    "    sig_taxa_species = results_df_species.query(\"p_adj < 0.05\")[[\"disease\", \"taxon\"]].drop_duplicates()\n",
    "    df_species_significant = df_species_retained.merge(\n",
    "        sig_taxa_species,\n",
    "        left_on=[\"disease\", \"ncbi_taxon_id\"],\n",
    "        right_on=[\"disease\", \"taxon\"],\n",
    "        how=\"inner\"\n",
    "    ).drop(columns=\"taxon\")\n",
    "\n",
    "    # ---------------------------\n",
    "    # Descriptive Summary\n",
    "    # ---------------------------\n",
    "    print(\"✅ PERMUTATION TESTING COMPLETE\")\n",
    "    print(f\"• Total diseases tested: {len(summary_table_species)}\")\n",
    "    print(f\"• Total (disease, taxon) pairs tested: {results_df_species.shape[0]}\")\n",
    "    print(f\"• Total significant pairs (FDR < 0.05): {(results_df_species['p_adj'] < 0.05).sum()}\")\n",
    "    print(f\"• Shape of df_species_significant: {df_species_significant.shape}\")\n",
    "    print(f\"• Unique significant taxa: {df_species_significant['ncbi_taxon_id'].nunique()}\")\n",
    "    print(f\"• Diseases with significant taxa: {df_species_significant['disease'].nunique()}\")\n",
    "    \n",
    "    # ---------------------------\n",
    "    # Save Significant Taxa Data\n",
    "    # ---------------------------\n",
    "    df_species_significant.to_csv(\"/mnt/iusers01/fatpou01/bmh01/msc-bioinf-2024-2025/h44063jg/microbiome_project/diff_taxa_abundance_analysis/significant_species_taxa.txt\", sep=\"\\t\", index=False)\n",
    "    print(\"📁 Saved significant species-level taxa to 'significant_species_taxa.txt'\")  \n",
    "\n",
    "    display(summary_table_species)\n",
    "    display(results_df_species.sort_values(\"p_adj\"))\n",
    "\n",
    "else:\n",
    "    print(\"⚠️ No valid taxa comparisons passed filtering.\")\n"
   ]
  },
  {
   "cell_type": "markdown",
   "id": "33fffb97",
   "metadata": {},
   "source": [
    "___\n",
    "___\n",
    "___"
   ]
  },
  {
   "cell_type": "code",
   "execution_count": 8,
   "id": "c7953ff8",
   "metadata": {},
   "outputs": [
    {
     "name": "stderr",
     "output_type": "stream",
     "text": [
      "/tmp/slurm.4378198/ipykernel_2049084/816346268.py:41: UserWarning: This figure includes Axes that are not compatible with tight_layout, so results might be incorrect.\n",
      "  plt.tight_layout()\n"
     ]
    },
    {
     "data": {
      "image/png": "[encoded data removed]",
      "text/plain": [
       "<Figure size 2200x700 with 2 Axes>"
      ]
     },
     "metadata": {},
     "output_type": "display_data"
    }
   ],
   "source": [
    "import matplotlib.pyplot as plt\n",
    "import numpy as np\n",
    "\n",
    "# ---- Map disease codes to names and align order ----\n",
    "summary_table_genus_plot = summary_table_genus.reset_index().copy()\n",
    "summary_table_species_plot = summary_table_species.reset_index().copy()\n",
    "\n",
    "summary_table_genus_plot['disease_name'] = summary_table_genus_plot['disease'].map(disease_dict).fillna(summary_table_genus_plot['disease'])\n",
    "summary_table_species_plot['disease_name'] = summary_table_species_plot['disease'].map(disease_dict).fillna(summary_table_species_plot['disease'])\n",
    "\n",
    "# ---- Sort by genus taxa tested (for consistent x-axis) ----\n",
    "summary_table_genus_plot = summary_table_genus_plot.sort_values(\"n_taxa_tested\", ascending=False)\n",
    "sorted_diseases = summary_table_genus_plot['disease']\n",
    "\n",
    "# ---- Reorder species table to match genus order ----\n",
    "summary_table_species_plot['disease'] = pd.Categorical(summary_table_species_plot['disease'], categories=sorted_diseases, ordered=True)\n",
    "summary_table_species_plot = summary_table_species_plot.sort_values(\"disease\")\n",
    "\n",
    "# ---- Plotting ----\n",
    "x = np.arange(len(summary_table_genus_plot))\n",
    "width = 0.35\n",
    "\n",
    "fig, axs = plt.subplots(2, 1, figsize=(22, 7), sharex=True, gridspec_kw={'hspace': 0.15})\n",
    "\n",
    "# === Genus-level plot ===\n",
    "axs[0].bar(x - width/2, summary_table_genus_plot['n_taxa_tested'], width=width, label='Tested Taxa', color='lightgrey', edgecolor='black')\n",
    "axs[0].bar(x + width/2, summary_table_genus_plot['n_significant'], width=width, label='Significant (FDR < 0.05)', color='teal', edgecolor='black')\n",
    "axs[0].set_ylabel(\"Number of Unique Genera\", fontsize=12)\n",
    "axs[0].set_title(\"Genus-Level Differential Abundance (Healthy vs Disease)\", fontweight='bold', fontsize=14)\n",
    "axs[0].legend()\n",
    "\n",
    "# === Species-level plot ===\n",
    "axs[1].bar(x - width/2, summary_table_species_plot['n_taxa_tested'], width=width, label='Tested Taxa', color='lightgrey', edgecolor='black')\n",
    "axs[1].bar(x + width/2, summary_table_species_plot['n_significant'], width=width, label='Significant (FDR < 0.05)', color='crimson', edgecolor='black')\n",
    "axs[1].set_ylabel(\"Number of Unique Species\", fontsize=12)\n",
    "axs[1].set_title(\"Species-Level Differential Abundance (Healthy vs Disease)\", fontweight='bold', fontsize=14)\n",
    "axs[1].set_xticks(x)\n",
    "axs[1].set_xticklabels(summary_table_genus_plot['disease_name'], rotation=90)\n",
    "axs[1].legend()\n",
    "\n",
    "plt.tight_layout()\n",
    "plt.show()\n"
   ]
  }
 ],
 "metadata": {
  "kernelspec": {
   "display_name": "Environment (mam_myenv)",
   "language": "python",
   "name": "mam_myenv"
  },
  "language_info": {
   "codemirror_mode": {
    "name": "ipython",
    "version": 3
   },
   "file_extension": ".py",
   "mimetype": "text/x-python",
   "name": "python",
   "nbconvert_exporter": "python",
   "pygments_lexer": "ipython3",
   "version": "3.10.18"
  }
 },
 "nbformat": 4,
 "nbformat_minor": 5
}
